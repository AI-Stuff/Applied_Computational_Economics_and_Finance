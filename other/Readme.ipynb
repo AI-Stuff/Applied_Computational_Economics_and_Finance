{
 "cells": [
  {
   "cell_type": "code",
   "execution_count": null,
   "metadata": {
    "collapsed": true
   },
   "outputs": [],
   "source": []
  },
  {
   "cell_type": "code",
   "execution_count": null,
   "metadata": {
    "collapsed": true
   },
   "outputs": [],
   "source": []
  },
  {
   "cell_type": "markdown",
   "metadata": {},
   "source": [
    "Online JupyterHub\n",
    "\n",
    "\n",
    "http://intro.syzygy.ca/getting-started/\n",
    "\n",
    "\n",
    "* uvic.syzygy.ca\n",
    "\n",
    "* https://cybera.syzygy.ca Cybera (via Google Authentication)\n",
    "\n",
    "Your “university credentials” will be something like your campus-wide login ID, student or employee number, etc. You will also need to enter the password connected to your campus-wide login ID or number. This information is held privately by your university IT group, so privacy is assured by your university.\n",
    "Anyone with Google credentials can use https://cybera.syzygy.ca for research, learning or innovation (including post secondary institutions, K-12 and business incubators).\n",
    "You can use any web browser that you like. However, some experience suggests the following: - Firefox is better at rendering math formulas, but cut/copy/paste does not work in the terminal. - Chrome is better at cut/copy/paste in the terminal, important when using GIT, for instance. - Safari works fine, including on iPads and iPhones. - Internet Explorer is not something to use, for many good reasons\n",
    "\n",
    "\n",
    "\n",
    "* https://pims.jupyter.ca\n",
    "\n",
    "* try.jupyter.org"
   ]
  },
  {
   "cell_type": "code",
   "execution_count": 5,
   "metadata": {
    "collapsed": false
   },
   "outputs": [
    {
     "name": "stdout",
     "output_type": "stream",
     "text": [
      "\u001b[33mThe directory '/home/jovyan/.cache/pip/http' or its parent directory is not owned by the current user and the cache has been disabled. Please check the permissions and owner of that directory. If executing pip with sudo, you may want sudo's -H flag.\u001b[0m\n",
      "\u001b[33mThe directory '/home/jovyan/.cache/pip' or its parent directory is not owned by the current user and caching wheels has been disabled. check the permissions and owner of that directory. If executing pip with sudo, you may want sudo's -H flag.\u001b[0m\n",
      "Collecting pip\n",
      "  Downloading pip-9.0.1-py2.py3-none-any.whl (1.3MB)\n",
      "\u001b[K    100% |████████████████████████████████| 1.3MB 1.0MB/s \n",
      "\u001b[?25hInstalling collected packages: pip\n",
      "Successfully installed pip-9.0.1\n"
     ]
    }
   ],
   "source": [
    "!pip install --upgrade --user pip"
   ]
  },
  {
   "cell_type": "code",
   "execution_count": 1,
   "metadata": {
    "collapsed": false
   },
   "outputs": [
    {
     "name": "stdout",
     "output_type": "stream",
     "text": [
      "\u001b[33mThe directory '/home/jovyan/.cache/pip/http' or its parent directory is not owned by the current user and the cache has been disabled. Please check the permissions and owner of that directory. If executing pip with sudo, you may want sudo's -H flag.\u001b[0m\n",
      "\u001b[33mThe directory '/home/jovyan/.cache/pip' or its parent directory is not owned by the current user and caching wheels has been disabled. check the permissions and owner of that directory. If executing pip with sudo, you may want sudo's -H flag.\u001b[0m\n",
      "Collecting quantecon\n",
      "  Downloading quantecon-0.3.5.1.tar.gz (98kB)\n",
      "\u001b[K    100% |████████████████████████████████| 102kB 2.8MB/s \n",
      "\u001b[?25hInstalling collected packages: quantecon\n",
      "  Running setup.py install for quantecon ... \u001b[?25l-\b \b\\\b \b|\b \b/\b \bdone\n",
      "\u001b[?25hSuccessfully installed quantecon-0.3.5.1\n",
      "\u001b[33mYou are using pip version 8.1.2, however version 9.0.1 is available.\n",
      "You should consider upgrading via the 'pip install --upgrade pip' command.\u001b[0m\n"
     ]
    }
   ],
   "source": [
    "!pip install --user quantecon"
   ]
  },
  {
   "cell_type": "code",
   "execution_count": 4,
   "metadata": {
    "collapsed": false
   },
   "outputs": [
    {
     "ename": "ImportError",
     "evalue": "cannot import name 'generated_jit'",
     "output_type": "error",
     "traceback": [
      "\u001b[0;31m---------------------------------------------------------------------------\u001b[0m",
      "\u001b[0;31mImportError\u001b[0m                               Traceback (most recent call last)",
      "\u001b[0;32m<ipython-input-4-3a27e507bc0d>\u001b[0m in \u001b[0;36m<module>\u001b[0;34m()\u001b[0m\n\u001b[0;32m----> 1\u001b[0;31m \u001b[0;32mfrom\u001b[0m \u001b[0mquantecon\u001b[0m \u001b[0;32mimport\u001b[0m \u001b[0mquad\u001b[0m\u001b[0;34m\u001b[0m\u001b[0m\n\u001b[0m",
      "\u001b[0;32m/home/jonduan/.local/lib/python3.5/site-packages/quantecon/__init__.py\u001b[0m in \u001b[0;36m<module>\u001b[0;34m()\u001b[0m\n\u001b[1;32m     10\u001b[0m \u001b[0;31m#-Modules-#\u001b[0m\u001b[0;34m\u001b[0m\u001b[0;34m\u001b[0m\u001b[0m\n\u001b[1;32m     11\u001b[0m \u001b[0;32mfrom\u001b[0m \u001b[0;34m.\u001b[0m \u001b[0;32mimport\u001b[0m \u001b[0mdistributions\u001b[0m\u001b[0;34m\u001b[0m\u001b[0m\n\u001b[0;32m---> 12\u001b[0;31m \u001b[0;32mfrom\u001b[0m \u001b[0;34m.\u001b[0m \u001b[0;32mimport\u001b[0m \u001b[0mgame_theory\u001b[0m\u001b[0;34m\u001b[0m\u001b[0m\n\u001b[0m\u001b[1;32m     13\u001b[0m \u001b[0;32mfrom\u001b[0m \u001b[0;34m.\u001b[0m \u001b[0;32mimport\u001b[0m \u001b[0mquad\u001b[0m\u001b[0;34m\u001b[0m\u001b[0m\n\u001b[1;32m     14\u001b[0m \u001b[0;32mfrom\u001b[0m \u001b[0;34m.\u001b[0m \u001b[0;32mimport\u001b[0m \u001b[0mrandom\u001b[0m\u001b[0;34m\u001b[0m\u001b[0m\n",
      "\u001b[0;32m/home/jonduan/.local/lib/python3.5/site-packages/quantecon/game_theory/__init__.py\u001b[0m in \u001b[0;36m<module>\u001b[0;34m()\u001b[0m\n\u001b[1;32m      9\u001b[0m \u001b[0;32mfrom\u001b[0m \u001b[0;34m.\u001b[0m\u001b[0msupport_enumeration\u001b[0m \u001b[0;32mimport\u001b[0m \u001b[0msupport_enumeration\u001b[0m\u001b[0;34m,\u001b[0m \u001b[0msupport_enumeration_gen\u001b[0m\u001b[0;34m\u001b[0m\u001b[0m\n\u001b[1;32m     10\u001b[0m \u001b[0;32mfrom\u001b[0m \u001b[0;34m.\u001b[0m\u001b[0mlemke_howson\u001b[0m \u001b[0;32mimport\u001b[0m \u001b[0mlemke_howson\u001b[0m\u001b[0;34m\u001b[0m\u001b[0m\n\u001b[0;32m---> 11\u001b[0;31m \u001b[0;32mfrom\u001b[0m \u001b[0;34m.\u001b[0m\u001b[0mmclennan_tourky\u001b[0m \u001b[0;32mimport\u001b[0m \u001b[0mmclennan_tourky\u001b[0m\u001b[0;34m\u001b[0m\u001b[0m\n\u001b[0m",
      "\u001b[0;32m/home/jonduan/.local/lib/python3.5/site-packages/quantecon/game_theory/mclennan_tourky.py\u001b[0m in \u001b[0;36m<module>\u001b[0;34m()\u001b[0m\n\u001b[1;32m      9\u001b[0m \u001b[0;32mimport\u001b[0m \u001b[0mnumbers\u001b[0m\u001b[0;34m\u001b[0m\u001b[0m\n\u001b[1;32m     10\u001b[0m \u001b[0;32mimport\u001b[0m \u001b[0mnumpy\u001b[0m \u001b[0;32mas\u001b[0m \u001b[0mnp\u001b[0m\u001b[0;34m\u001b[0m\u001b[0m\n\u001b[0;32m---> 11\u001b[0;31m \u001b[0;32mfrom\u001b[0m \u001b[0;34m.\u001b[0m\u001b[0;34m.\u001b[0m\u001b[0mcompute_fp\u001b[0m \u001b[0;32mimport\u001b[0m \u001b[0m_compute_fixed_point_ig\u001b[0m\u001b[0;34m\u001b[0m\u001b[0m\n\u001b[0m\u001b[1;32m     12\u001b[0m \u001b[0;32mfrom\u001b[0m \u001b[0;34m.\u001b[0m\u001b[0mnormal_form_game\u001b[0m \u001b[0;32mimport\u001b[0m \u001b[0mpure2mixed\u001b[0m\u001b[0;34m\u001b[0m\u001b[0m\n\u001b[1;32m     13\u001b[0m \u001b[0;32mfrom\u001b[0m \u001b[0;34m.\u001b[0m\u001b[0mutilities\u001b[0m \u001b[0;32mimport\u001b[0m \u001b[0mNashResult\u001b[0m\u001b[0;34m\u001b[0m\u001b[0m\n",
      "\u001b[0;32m/home/jonduan/.local/lib/python3.5/site-packages/quantecon/compute_fp.py\u001b[0m in \u001b[0;36m<module>\u001b[0;34m()\u001b[0m\n\u001b[1;32m     10\u001b[0m \u001b[0;32mimport\u001b[0m \u001b[0mwarnings\u001b[0m\u001b[0;34m\u001b[0m\u001b[0m\n\u001b[1;32m     11\u001b[0m \u001b[0;32mimport\u001b[0m \u001b[0mnumpy\u001b[0m \u001b[0;32mas\u001b[0m \u001b[0mnp\u001b[0m\u001b[0;34m\u001b[0m\u001b[0m\n\u001b[0;32m---> 12\u001b[0;31m \u001b[0;32mfrom\u001b[0m \u001b[0mnumba\u001b[0m \u001b[0;32mimport\u001b[0m \u001b[0mjit\u001b[0m\u001b[0;34m,\u001b[0m \u001b[0mgenerated_jit\u001b[0m\u001b[0;34m,\u001b[0m \u001b[0mtypes\u001b[0m\u001b[0;34m\u001b[0m\u001b[0m\n\u001b[0m\u001b[1;32m     13\u001b[0m \u001b[0;32mfrom\u001b[0m \u001b[0;34m.\u001b[0m\u001b[0mgame_theory\u001b[0m\u001b[0;34m.\u001b[0m\u001b[0mlemke_howson\u001b[0m \u001b[0;32mimport\u001b[0m \u001b[0m_lemke_howson_tbl\u001b[0m\u001b[0;34m,\u001b[0m \u001b[0m_get_mixed_actions\u001b[0m\u001b[0;34m\u001b[0m\u001b[0m\n\u001b[1;32m     14\u001b[0m \u001b[0;34m\u001b[0m\u001b[0m\n",
      "\u001b[0;31mImportError\u001b[0m: cannot import name 'generated_jit'"
     ]
    }
   ],
   "source": [
    "from quantecon import quad"
   ]
  },
  {
   "cell_type": "code",
   "execution_count": 9,
   "metadata": {
    "collapsed": false
   },
   "outputs": [],
   "source": [
    "from numba import *"
   ]
  },
  {
   "cell_type": "code",
   "execution_count": 13,
   "metadata": {
    "collapsed": false
   },
   "outputs": [
    {
     "name": "stdout",
     "output_type": "stream",
     "text": [
      "Object `generated_jit` not found.\n"
     ]
    }
   ],
   "source": [
    "?generated_jit"
   ]
  },
  {
   "cell_type": "markdown",
   "metadata": {},
   "source": [
    "## Textbook\n",
    "\n",
    "\n",
    "* http://www.oreilly.com/programming/free/files/python-for-scientists.pdf\n",
    "\n",
    "\n",
    "\n",
    "* A Primer on Scientific Programming in Python, H.P. Langtangen https://hplgit.github.io/primer.html/doc/pub/half/book.pdf\n",
    "   * https://github.com/hplgit/scipro-primer\n",
    "\n"
   ]
  },
  {
   "cell_type": "markdown",
   "metadata": {
    "collapsed": true
   },
   "source": [
    "## Plot\n",
    "\n",
    "There are many, many more plot types available.  One useful way to explore these is by\n",
    "looking at the [matplotlib gallery](http://matplotlib.org/gallery.html).\n",
    "\n",
    "You can test these examples out easily in the notebook: simply copy the ``Source Code``\n",
    "link on each page, and put it in a notebook using the ``%load`` magic.\n",
    "For example:"
   ]
  },
  {
   "cell_type": "code",
   "execution_count": null,
   "metadata": {
    "collapsed": true
   },
   "outputs": [],
   "source": [
    "# %load http://matplotlib.org/mpl_examples/pylab_examples/ellipse_collection.py"
   ]
  },
  {
   "cell_type": "code",
   "execution_count": null,
   "metadata": {
    "collapsed": true
   },
   "outputs": [],
   "source": []
  },
  {
   "cell_type": "markdown",
   "metadata": {},
   "source": [
    "## Git and Github\n",
    "\n",
    "```\n",
    "%%bash\n",
    "git config --global user.email \"your_email@whatever.ca\"\n",
    "git config --global user.name \"Your Name\"\n",
    "```\n",
    "https://github.com/snowdj/Math651w17/blob/master/Lec1_Git_Github.ipynb"
   ]
  },
  {
   "cell_type": "markdown",
   "metadata": {
    "collapsed": true
   },
   "source": [
    "## Example - cloning from Github\n",
    "\n",
    "To clone the repo of lecture notes for this course, run the following commands:\n",
    "\n",
    "```python\n",
    "%%bash\n",
    "git clone https://github.com/mlamoureux/Math651w17.git\n",
    "```\n",
    "You should now be able to see a new folder in your syzygy account called \"Math651w17\". Inside you will see all the notes for the course that have been produced so far.\n",
    "\n",
    "## Example - updating your files from Github\n",
    "\n",
    "As we add lecture notes to the Github repo, you will want to update your copies. You should use the \"pull\" command as follows:\n",
    "\n",
    "```python\n",
    "%%bash\n",
    "git pull origin master\n",
    "```\n",
    "\n",
    "What this means is you are pulling data from the original repo on github (called origin) using the master branch (which is the only branch we have right now.)\n",
    "\n",
    "## Using the unix terminal\n",
    "You don't have to use the magic command %%bash if you prefer direct unix. In the first tree of the Jupyter service, go to the \"New\" menu and select \"Terminal\". This opens a unix terminal that you can do all your unix-y things directly.\n",
    "\n",
    "Make sure you are in the main directory of the repo you are interested in (say the Math651w17 repo). Then type in your relevant git command, like\n",
    "```python\n",
    "git pull origin master\n",
    "```\n",
    "\n",
    "\n",
    "### Pushing back up to Github\n",
    "\n",
    "Once you've added some files in your local repo, or made changes to existing files, you need to push them back to Github.\n",
    "\n",
    "First, tell git to add all the files and folders in the repo to the list of things to add\n",
    "```python\n",
    "git add *\n",
    "```\n",
    "\n",
    "Next, tell git that you are committing the changes (i.e. you really want to finalize these changes\n",
    "```python\n",
    "git commit -m \"Here are my latest changes\"\n",
    "```\n",
    "(You must include a message to the commit, might as well make it informative.)\n",
    "\n",
    "Finally, you push the changes to the origin, at the master branch\n",
    "```python\n",
    "git push origin master\n",
    "```\n",
    "(This command MUST be done from the unix shell, in the terminal, because it will ask you for a user name and password for the repo. In Michael's example, the user name is mlamoureux, and of course he won't tell you his password.)\n"
   ]
  },
  {
   "cell_type": "code",
   "execution_count": null,
   "metadata": {
    "collapsed": true
   },
   "outputs": [],
   "source": []
  }
 ],
 "metadata": {
  "kernelspec": {
   "display_name": "Python 3",
   "language": "python",
   "name": "python3"
  },
  "language_info": {
   "codemirror_mode": {
    "name": "ipython",
    "version": 3
   },
   "file_extension": ".py",
   "mimetype": "text/x-python",
   "name": "python",
   "nbconvert_exporter": "python",
   "pygments_lexer": "ipython3",
   "version": "3.5.2"
  }
 },
 "nbformat": 4,
 "nbformat_minor": 1
}
