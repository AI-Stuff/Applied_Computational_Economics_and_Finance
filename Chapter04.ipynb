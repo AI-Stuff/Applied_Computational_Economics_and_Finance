{
 "cells": [
  {
   "cell_type": "markdown",
   "metadata": {},
   "source": [
    "# Chapter 4\n",
    "# Finite-Dimensional Optimization"
   ]
  },
  {
   "cell_type": "markdown",
   "metadata": {},
   "source": [
    "In this chapter we examine methods for optimizing a function with respect to a finite\n",
    "number of variables. In the finite-dimensional optimization problem, one is given a\n",
    "real-valued function $f$ defined on $X \\subset R^n$ and asked to find an $x^* \\in X$ such that\n",
    "$f(x^*) \\geq f(x)$ for all $x \\in X$. We denote this problem\n",
    "\n",
    "$$\\max_{x \\in X} f(x)$$\n",
    "\n",
    "and call $f$ the objective function, $X$ the feasible set, and $x^*$, if it exists, a maximum."
   ]
  },
  {
   "cell_type": "markdown",
   "metadata": {},
   "source": [
    "There is a close relationship between the finite-dimensional optimization problems\n",
    "discussed in this chapter and the rootfinding and complementarity problems\n",
    "discussed in the previous chapter. The first-order necessary conditions of an unconstrained\n",
    "problem pose a rootfinding problem; the Karush-Kuhn-Tucker first-order\n",
    "necessary conditions of a constrained optimization problem pose a complementarity\n",
    "problem. The rootfinding and complementarity problems associated with optimization\n",
    "problems are special in that they possess a natural merit function, the objective\n",
    "function itself, which may be used to determine whether iterations are converging on\n",
    "a solution."
   ]
  },
  {
   "cell_type": "markdown",
   "metadata": {},
   "source": [
    "Over the years, numerical analysts have studied finite-dimensional optimization\n",
    "problems extensively and have devised a variety of algorithms for solving them quickly\n",
    "and accurately. We begin our discussion with derivative-free methods, which are useful\n",
    "if the objective function is rough or if its derivatives are expensive to compute.\n",
    "We then turn to Newton-type methods for unconstrained optimization, which employ\n",
    "derivatives or derivative estimates to locate an optimum. Univariate unconstrained\n",
    "optimization methods are of particular interest because many multivariate optimization\n",
    "algorithms use the strategy of first determining a linear direction to move in,\n",
    "and then finding the optimal point in that direction. We conclude with a discussion\n",
    "of how to solve constrained optimization problems."
   ]
  },
  {
   "cell_type": "markdown",
   "metadata": {},
   "source": [
    "## 4.1 Derivative-Free Methods"
   ]
  },
  {
   "cell_type": "markdown",
   "metadata": {},
   "source": [
    "As was the case with univariate rootfinding, optimization algorithms exist that will\n",
    "place progressively smaller brackets around a local maximum of a univariate function.\n",
    "Such methods are relatively slow, but do not require the evaluation of function\n",
    "derivatives and are guaranteed to find a local optimum to a prescribed tolerance in a\n",
    "known number of steps."
   ]
  },
  {
   "cell_type": "markdown",
   "metadata": {},
   "source": [
    "The most widely-used derivative-free method is the **golden search** method."
   ]
  },
  {
   "cell_type": "markdown",
   "metadata": {},
   "source": [
    "Suppose\n",
    "we wish to find a local maximum of a continuous univariate function $f(x)$ on\n",
    "the interval $[a; b]$. Pick any two numbers in the interior of the interval, say $x_1$ and $x_2$\n",
    "with $x_1 < x_2$. Evaluate the function and replace the original interval with $[a; x2]$ if\n",
    "$f(x_1) > f(x_2)$ or with $[x_1; b]$ if $f(x_2) \\geq f(x_1)$."
   ]
  },
  {
   "cell_type": "markdown",
   "metadata": {},
   "source": [
    "A key issue is how to pick the interior evaluation points. Two simple criteria lead\n",
    "to the most widely-used strategy. First, the length of the new interval should be\n",
    "independent of whether the upper or lower bound is replaced. Second, on successive\n",
    "iterations, one should be able to reuse an interior point from the previous iteration so\n",
    "that only one new function evaluation is performed per iteration. These conditions\n",
    "are uniquely satisfied by selecting $x_i = a + \\alpha_i (b - a)$, where\n",
    "\n",
    "$$\\alpha_1 = \\frac{3-\\sqrt 5}{2}$$\n",
    "\n",
    "$$\\alpha_2 = \\frac{\\sqrt 5 -1}{2}$$\n",
    "\n",
    "The value $\\alpha_2$ is known as the golden ratio, a number dear to the hearts of Greek\n",
    "philosophers and Renaissance artists."
   ]
  },
  {
   "cell_type": "code",
   "execution_count": 3,
   "metadata": {
    "collapsed": true
   },
   "outputs": [],
   "source": [
    "import numpy as np\n",
    "from numpy import append, array, diagonal, tril, triu\n",
    "from numpy.linalg import inv\n",
    "from scipy.linalg import lu\n",
    "#from scipy.linalg import solve\n",
    "from pprint import pprint\n",
    "from numpy import array, zeros, diag, diagflat, dot\n",
    "\n",
    "from sympy import *\n",
    "import sympy as sym\n",
    "init_printing()"
   ]
  },
  {
   "cell_type": "code",
   "execution_count": 13,
   "metadata": {
    "collapsed": false
   },
   "outputs": [],
   "source": [
    "%matplotlib notebook\n",
    "from matplotlib import pyplot as plt"
   ]
  },
  {
   "cell_type": "code",
   "execution_count": 5,
   "metadata": {
    "collapsed": true
   },
   "outputs": [],
   "source": [
    "maxit = 1000\n",
    "tol = 1/10000\n",
    "x0= np.array([0,3])\n",
    "f = lambda x: x * np.cos(x ** 2)\n",
    "\n",
    "a,b = 0,3"
   ]
  },
  {
   "cell_type": "code",
   "execution_count": 14,
   "metadata": {
    "collapsed": false
   },
   "outputs": [
    {
     "data": {
      "application/javascript": [
       "/* Put everything inside the global mpl namespace */\n",
       "window.mpl = {};\n",
       "\n",
       "mpl.get_websocket_type = function() {\n",
       "    if (typeof(WebSocket) !== 'undefined') {\n",
       "        return WebSocket;\n",
       "    } else if (typeof(MozWebSocket) !== 'undefined') {\n",
       "        return MozWebSocket;\n",
       "    } else {\n",
       "        alert('Your browser does not have WebSocket support.' +\n",
       "              'Please try Chrome, Safari or Firefox ≥ 6. ' +\n",
       "              'Firefox 4 and 5 are also supported but you ' +\n",
       "              'have to enable WebSockets in about:config.');\n",
       "    };\n",
       "}\n",
       "\n",
       "mpl.figure = function(figure_id, websocket, ondownload, parent_element) {\n",
       "    this.id = figure_id;\n",
       "\n",
       "    this.ws = websocket;\n",
       "\n",
       "    this.supports_binary = (this.ws.binaryType != undefined);\n",
       "\n",
       "    if (!this.supports_binary) {\n",
       "        var warnings = document.getElementById(\"mpl-warnings\");\n",
       "        if (warnings) {\n",
       "            warnings.style.display = 'block';\n",
       "            warnings.textContent = (\n",
       "                \"This browser does not support binary websocket messages. \" +\n",
       "                    \"Performance may be slow.\");\n",
       "        }\n",
       "    }\n",
       "\n",
       "    this.imageObj = new Image();\n",
       "\n",
       "    this.context = undefined;\n",
       "    this.message = undefined;\n",
       "    this.canvas = undefined;\n",
       "    this.rubberband_canvas = undefined;\n",
       "    this.rubberband_context = undefined;\n",
       "    this.format_dropdown = undefined;\n",
       "\n",
       "    this.image_mode = 'full';\n",
       "\n",
       "    this.root = $('<div/>');\n",
       "    this._root_extra_style(this.root)\n",
       "    this.root.attr('style', 'display: inline-block');\n",
       "\n",
       "    $(parent_element).append(this.root);\n",
       "\n",
       "    this._init_header(this);\n",
       "    this._init_canvas(this);\n",
       "    this._init_toolbar(this);\n",
       "\n",
       "    var fig = this;\n",
       "\n",
       "    this.waiting = false;\n",
       "\n",
       "    this.ws.onopen =  function () {\n",
       "            fig.send_message(\"supports_binary\", {value: fig.supports_binary});\n",
       "            fig.send_message(\"send_image_mode\", {});\n",
       "            fig.send_message(\"refresh\", {});\n",
       "        }\n",
       "\n",
       "    this.imageObj.onload = function() {\n",
       "            if (fig.image_mode == 'full') {\n",
       "                // Full images could contain transparency (where diff images\n",
       "                // almost always do), so we need to clear the canvas so that\n",
       "                // there is no ghosting.\n",
       "                fig.context.clearRect(0, 0, fig.canvas.width, fig.canvas.height);\n",
       "            }\n",
       "            fig.context.drawImage(fig.imageObj, 0, 0);\n",
       "        };\n",
       "\n",
       "    this.imageObj.onunload = function() {\n",
       "        this.ws.close();\n",
       "    }\n",
       "\n",
       "    this.ws.onmessage = this._make_on_message_function(this);\n",
       "\n",
       "    this.ondownload = ondownload;\n",
       "}\n",
       "\n",
       "mpl.figure.prototype._init_header = function() {\n",
       "    var titlebar = $(\n",
       "        '<div class=\"ui-dialog-titlebar ui-widget-header ui-corner-all ' +\n",
       "        'ui-helper-clearfix\"/>');\n",
       "    var titletext = $(\n",
       "        '<div class=\"ui-dialog-title\" style=\"width: 100%; ' +\n",
       "        'text-align: center; padding: 3px;\"/>');\n",
       "    titlebar.append(titletext)\n",
       "    this.root.append(titlebar);\n",
       "    this.header = titletext[0];\n",
       "}\n",
       "\n",
       "\n",
       "\n",
       "mpl.figure.prototype._canvas_extra_style = function(canvas_div) {\n",
       "\n",
       "}\n",
       "\n",
       "\n",
       "mpl.figure.prototype._root_extra_style = function(canvas_div) {\n",
       "\n",
       "}\n",
       "\n",
       "mpl.figure.prototype._init_canvas = function() {\n",
       "    var fig = this;\n",
       "\n",
       "    var canvas_div = $('<div/>');\n",
       "\n",
       "    canvas_div.attr('style', 'position: relative; clear: both; outline: 0');\n",
       "\n",
       "    function canvas_keyboard_event(event) {\n",
       "        return fig.key_event(event, event['data']);\n",
       "    }\n",
       "\n",
       "    canvas_div.keydown('key_press', canvas_keyboard_event);\n",
       "    canvas_div.keyup('key_release', canvas_keyboard_event);\n",
       "    this.canvas_div = canvas_div\n",
       "    this._canvas_extra_style(canvas_div)\n",
       "    this.root.append(canvas_div);\n",
       "\n",
       "    var canvas = $('<canvas/>');\n",
       "    canvas.addClass('mpl-canvas');\n",
       "    canvas.attr('style', \"left: 0; top: 0; z-index: 0; outline: 0\")\n",
       "\n",
       "    this.canvas = canvas[0];\n",
       "    this.context = canvas[0].getContext(\"2d\");\n",
       "\n",
       "    var rubberband = $('<canvas/>');\n",
       "    rubberband.attr('style', \"position: absolute; left: 0; top: 0; z-index: 1;\")\n",
       "\n",
       "    var pass_mouse_events = true;\n",
       "\n",
       "    canvas_div.resizable({\n",
       "        start: function(event, ui) {\n",
       "            pass_mouse_events = false;\n",
       "        },\n",
       "        resize: function(event, ui) {\n",
       "            fig.request_resize(ui.size.width, ui.size.height);\n",
       "        },\n",
       "        stop: function(event, ui) {\n",
       "            pass_mouse_events = true;\n",
       "            fig.request_resize(ui.size.width, ui.size.height);\n",
       "        },\n",
       "    });\n",
       "\n",
       "    function mouse_event_fn(event) {\n",
       "        if (pass_mouse_events)\n",
       "            return fig.mouse_event(event, event['data']);\n",
       "    }\n",
       "\n",
       "    rubberband.mousedown('button_press', mouse_event_fn);\n",
       "    rubberband.mouseup('button_release', mouse_event_fn);\n",
       "    // Throttle sequential mouse events to 1 every 20ms.\n",
       "    rubberband.mousemove('motion_notify', mouse_event_fn);\n",
       "\n",
       "    rubberband.mouseenter('figure_enter', mouse_event_fn);\n",
       "    rubberband.mouseleave('figure_leave', mouse_event_fn);\n",
       "\n",
       "    canvas_div.on(\"wheel\", function (event) {\n",
       "        event = event.originalEvent;\n",
       "        event['data'] = 'scroll'\n",
       "        if (event.deltaY < 0) {\n",
       "            event.step = 1;\n",
       "        } else {\n",
       "            event.step = -1;\n",
       "        }\n",
       "        mouse_event_fn(event);\n",
       "    });\n",
       "\n",
       "    canvas_div.append(canvas);\n",
       "    canvas_div.append(rubberband);\n",
       "\n",
       "    this.rubberband = rubberband;\n",
       "    this.rubberband_canvas = rubberband[0];\n",
       "    this.rubberband_context = rubberband[0].getContext(\"2d\");\n",
       "    this.rubberband_context.strokeStyle = \"#000000\";\n",
       "\n",
       "    this._resize_canvas = function(width, height) {\n",
       "        // Keep the size of the canvas, canvas container, and rubber band\n",
       "        // canvas in synch.\n",
       "        canvas_div.css('width', width)\n",
       "        canvas_div.css('height', height)\n",
       "\n",
       "        canvas.attr('width', width);\n",
       "        canvas.attr('height', height);\n",
       "\n",
       "        rubberband.attr('width', width);\n",
       "        rubberband.attr('height', height);\n",
       "    }\n",
       "\n",
       "    // Set the figure to an initial 600x600px, this will subsequently be updated\n",
       "    // upon first draw.\n",
       "    this._resize_canvas(600, 600);\n",
       "\n",
       "    // Disable right mouse context menu.\n",
       "    $(this.rubberband_canvas).bind(\"contextmenu\",function(e){\n",
       "        return false;\n",
       "    });\n",
       "\n",
       "    function set_focus () {\n",
       "        canvas.focus();\n",
       "        canvas_div.focus();\n",
       "    }\n",
       "\n",
       "    window.setTimeout(set_focus, 100);\n",
       "}\n",
       "\n",
       "mpl.figure.prototype._init_toolbar = function() {\n",
       "    var fig = this;\n",
       "\n",
       "    var nav_element = $('<div/>')\n",
       "    nav_element.attr('style', 'width: 100%');\n",
       "    this.root.append(nav_element);\n",
       "\n",
       "    // Define a callback function for later on.\n",
       "    function toolbar_event(event) {\n",
       "        return fig.toolbar_button_onclick(event['data']);\n",
       "    }\n",
       "    function toolbar_mouse_event(event) {\n",
       "        return fig.toolbar_button_onmouseover(event['data']);\n",
       "    }\n",
       "\n",
       "    for(var toolbar_ind in mpl.toolbar_items) {\n",
       "        var name = mpl.toolbar_items[toolbar_ind][0];\n",
       "        var tooltip = mpl.toolbar_items[toolbar_ind][1];\n",
       "        var image = mpl.toolbar_items[toolbar_ind][2];\n",
       "        var method_name = mpl.toolbar_items[toolbar_ind][3];\n",
       "\n",
       "        if (!name) {\n",
       "            // put a spacer in here.\n",
       "            continue;\n",
       "        }\n",
       "        var button = $('<button/>');\n",
       "        button.addClass('ui-button ui-widget ui-state-default ui-corner-all ' +\n",
       "                        'ui-button-icon-only');\n",
       "        button.attr('role', 'button');\n",
       "        button.attr('aria-disabled', 'false');\n",
       "        button.click(method_name, toolbar_event);\n",
       "        button.mouseover(tooltip, toolbar_mouse_event);\n",
       "\n",
       "        var icon_img = $('<span/>');\n",
       "        icon_img.addClass('ui-button-icon-primary ui-icon');\n",
       "        icon_img.addClass(image);\n",
       "        icon_img.addClass('ui-corner-all');\n",
       "\n",
       "        var tooltip_span = $('<span/>');\n",
       "        tooltip_span.addClass('ui-button-text');\n",
       "        tooltip_span.html(tooltip);\n",
       "\n",
       "        button.append(icon_img);\n",
       "        button.append(tooltip_span);\n",
       "\n",
       "        nav_element.append(button);\n",
       "    }\n",
       "\n",
       "    var fmt_picker_span = $('<span/>');\n",
       "\n",
       "    var fmt_picker = $('<select/>');\n",
       "    fmt_picker.addClass('mpl-toolbar-option ui-widget ui-widget-content');\n",
       "    fmt_picker_span.append(fmt_picker);\n",
       "    nav_element.append(fmt_picker_span);\n",
       "    this.format_dropdown = fmt_picker[0];\n",
       "\n",
       "    for (var ind in mpl.extensions) {\n",
       "        var fmt = mpl.extensions[ind];\n",
       "        var option = $(\n",
       "            '<option/>', {selected: fmt === mpl.default_extension}).html(fmt);\n",
       "        fmt_picker.append(option)\n",
       "    }\n",
       "\n",
       "    // Add hover states to the ui-buttons\n",
       "    $( \".ui-button\" ).hover(\n",
       "        function() { $(this).addClass(\"ui-state-hover\");},\n",
       "        function() { $(this).removeClass(\"ui-state-hover\");}\n",
       "    );\n",
       "\n",
       "    var status_bar = $('<span class=\"mpl-message\"/>');\n",
       "    nav_element.append(status_bar);\n",
       "    this.message = status_bar[0];\n",
       "}\n",
       "\n",
       "mpl.figure.prototype.request_resize = function(x_pixels, y_pixels) {\n",
       "    // Request matplotlib to resize the figure. Matplotlib will then trigger a resize in the client,\n",
       "    // which will in turn request a refresh of the image.\n",
       "    this.send_message('resize', {'width': x_pixels, 'height': y_pixels});\n",
       "}\n",
       "\n",
       "mpl.figure.prototype.send_message = function(type, properties) {\n",
       "    properties['type'] = type;\n",
       "    properties['figure_id'] = this.id;\n",
       "    this.ws.send(JSON.stringify(properties));\n",
       "}\n",
       "\n",
       "mpl.figure.prototype.send_draw_message = function() {\n",
       "    if (!this.waiting) {\n",
       "        this.waiting = true;\n",
       "        this.ws.send(JSON.stringify({type: \"draw\", figure_id: this.id}));\n",
       "    }\n",
       "}\n",
       "\n",
       "\n",
       "mpl.figure.prototype.handle_save = function(fig, msg) {\n",
       "    var format_dropdown = fig.format_dropdown;\n",
       "    var format = format_dropdown.options[format_dropdown.selectedIndex].value;\n",
       "    fig.ondownload(fig, format);\n",
       "}\n",
       "\n",
       "\n",
       "mpl.figure.prototype.handle_resize = function(fig, msg) {\n",
       "    var size = msg['size'];\n",
       "    if (size[0] != fig.canvas.width || size[1] != fig.canvas.height) {\n",
       "        fig._resize_canvas(size[0], size[1]);\n",
       "        fig.send_message(\"refresh\", {});\n",
       "    };\n",
       "}\n",
       "\n",
       "mpl.figure.prototype.handle_rubberband = function(fig, msg) {\n",
       "    var x0 = msg['x0'];\n",
       "    var y0 = fig.canvas.height - msg['y0'];\n",
       "    var x1 = msg['x1'];\n",
       "    var y1 = fig.canvas.height - msg['y1'];\n",
       "    x0 = Math.floor(x0) + 0.5;\n",
       "    y0 = Math.floor(y0) + 0.5;\n",
       "    x1 = Math.floor(x1) + 0.5;\n",
       "    y1 = Math.floor(y1) + 0.5;\n",
       "    var min_x = Math.min(x0, x1);\n",
       "    var min_y = Math.min(y0, y1);\n",
       "    var width = Math.abs(x1 - x0);\n",
       "    var height = Math.abs(y1 - y0);\n",
       "\n",
       "    fig.rubberband_context.clearRect(\n",
       "        0, 0, fig.canvas.width, fig.canvas.height);\n",
       "\n",
       "    fig.rubberband_context.strokeRect(min_x, min_y, width, height);\n",
       "}\n",
       "\n",
       "mpl.figure.prototype.handle_figure_label = function(fig, msg) {\n",
       "    // Updates the figure title.\n",
       "    fig.header.textContent = msg['label'];\n",
       "}\n",
       "\n",
       "mpl.figure.prototype.handle_cursor = function(fig, msg) {\n",
       "    var cursor = msg['cursor'];\n",
       "    switch(cursor)\n",
       "    {\n",
       "    case 0:\n",
       "        cursor = 'pointer';\n",
       "        break;\n",
       "    case 1:\n",
       "        cursor = 'default';\n",
       "        break;\n",
       "    case 2:\n",
       "        cursor = 'crosshair';\n",
       "        break;\n",
       "    case 3:\n",
       "        cursor = 'move';\n",
       "        break;\n",
       "    }\n",
       "    fig.rubberband_canvas.style.cursor = cursor;\n",
       "}\n",
       "\n",
       "mpl.figure.prototype.handle_message = function(fig, msg) {\n",
       "    fig.message.textContent = msg['message'];\n",
       "}\n",
       "\n",
       "mpl.figure.prototype.handle_draw = function(fig, msg) {\n",
       "    // Request the server to send over a new figure.\n",
       "    fig.send_draw_message();\n",
       "}\n",
       "\n",
       "mpl.figure.prototype.handle_image_mode = function(fig, msg) {\n",
       "    fig.image_mode = msg['mode'];\n",
       "}\n",
       "\n",
       "mpl.figure.prototype.updated_canvas_event = function() {\n",
       "    // Called whenever the canvas gets updated.\n",
       "    this.send_message(\"ack\", {});\n",
       "}\n",
       "\n",
       "// A function to construct a web socket function for onmessage handling.\n",
       "// Called in the figure constructor.\n",
       "mpl.figure.prototype._make_on_message_function = function(fig) {\n",
       "    return function socket_on_message(evt) {\n",
       "        if (evt.data instanceof Blob) {\n",
       "            /* FIXME: We get \"Resource interpreted as Image but\n",
       "             * transferred with MIME type text/plain:\" errors on\n",
       "             * Chrome.  But how to set the MIME type?  It doesn't seem\n",
       "             * to be part of the websocket stream */\n",
       "            evt.data.type = \"image/png\";\n",
       "\n",
       "            /* Free the memory for the previous frames */\n",
       "            if (fig.imageObj.src) {\n",
       "                (window.URL || window.webkitURL).revokeObjectURL(\n",
       "                    fig.imageObj.src);\n",
       "            }\n",
       "\n",
       "            fig.imageObj.src = (window.URL || window.webkitURL).createObjectURL(\n",
       "                evt.data);\n",
       "            fig.updated_canvas_event();\n",
       "            fig.waiting = false;\n",
       "            return;\n",
       "        }\n",
       "        else if (typeof evt.data === 'string' && evt.data.slice(0, 21) == \"data:image/png;base64\") {\n",
       "            fig.imageObj.src = evt.data;\n",
       "            fig.updated_canvas_event();\n",
       "            fig.waiting = false;\n",
       "            return;\n",
       "        }\n",
       "\n",
       "        var msg = JSON.parse(evt.data);\n",
       "        var msg_type = msg['type'];\n",
       "\n",
       "        // Call the  \"handle_{type}\" callback, which takes\n",
       "        // the figure and JSON message as its only arguments.\n",
       "        try {\n",
       "            var callback = fig[\"handle_\" + msg_type];\n",
       "        } catch (e) {\n",
       "            console.log(\"No handler for the '\" + msg_type + \"' message type: \", msg);\n",
       "            return;\n",
       "        }\n",
       "\n",
       "        if (callback) {\n",
       "            try {\n",
       "                // console.log(\"Handling '\" + msg_type + \"' message: \", msg);\n",
       "                callback(fig, msg);\n",
       "            } catch (e) {\n",
       "                console.log(\"Exception inside the 'handler_\" + msg_type + \"' callback:\", e, e.stack, msg);\n",
       "            }\n",
       "        }\n",
       "    };\n",
       "}\n",
       "\n",
       "// from http://stackoverflow.com/questions/1114465/getting-mouse-location-in-canvas\n",
       "mpl.findpos = function(e) {\n",
       "    //this section is from http://www.quirksmode.org/js/events_properties.html\n",
       "    var targ;\n",
       "    if (!e)\n",
       "        e = window.event;\n",
       "    if (e.target)\n",
       "        targ = e.target;\n",
       "    else if (e.srcElement)\n",
       "        targ = e.srcElement;\n",
       "    if (targ.nodeType == 3) // defeat Safari bug\n",
       "        targ = targ.parentNode;\n",
       "\n",
       "    // jQuery normalizes the pageX and pageY\n",
       "    // pageX,Y are the mouse positions relative to the document\n",
       "    // offset() returns the position of the element relative to the document\n",
       "    var x = e.pageX - $(targ).offset().left;\n",
       "    var y = e.pageY - $(targ).offset().top;\n",
       "\n",
       "    return {\"x\": x, \"y\": y};\n",
       "};\n",
       "\n",
       "/*\n",
       " * return a copy of an object with only non-object keys\n",
       " * we need this to avoid circular references\n",
       " * http://stackoverflow.com/a/24161582/3208463\n",
       " */\n",
       "function simpleKeys (original) {\n",
       "  return Object.keys(original).reduce(function (obj, key) {\n",
       "    if (typeof original[key] !== 'object')\n",
       "        obj[key] = original[key]\n",
       "    return obj;\n",
       "  }, {});\n",
       "}\n",
       "\n",
       "mpl.figure.prototype.mouse_event = function(event, name) {\n",
       "    var canvas_pos = mpl.findpos(event)\n",
       "\n",
       "    if (name === 'button_press')\n",
       "    {\n",
       "        this.canvas.focus();\n",
       "        this.canvas_div.focus();\n",
       "    }\n",
       "\n",
       "    var x = canvas_pos.x;\n",
       "    var y = canvas_pos.y;\n",
       "\n",
       "    this.send_message(name, {x: x, y: y, button: event.button,\n",
       "                             step: event.step,\n",
       "                             guiEvent: simpleKeys(event)});\n",
       "\n",
       "    /* This prevents the web browser from automatically changing to\n",
       "     * the text insertion cursor when the button is pressed.  We want\n",
       "     * to control all of the cursor setting manually through the\n",
       "     * 'cursor' event from matplotlib */\n",
       "    event.preventDefault();\n",
       "    return false;\n",
       "}\n",
       "\n",
       "mpl.figure.prototype._key_event_extra = function(event, name) {\n",
       "    // Handle any extra behaviour associated with a key event\n",
       "}\n",
       "\n",
       "mpl.figure.prototype.key_event = function(event, name) {\n",
       "\n",
       "    // Prevent repeat events\n",
       "    if (name == 'key_press')\n",
       "    {\n",
       "        if (event.which === this._key)\n",
       "            return;\n",
       "        else\n",
       "            this._key = event.which;\n",
       "    }\n",
       "    if (name == 'key_release')\n",
       "        this._key = null;\n",
       "\n",
       "    var value = '';\n",
       "    if (event.ctrlKey && event.which != 17)\n",
       "        value += \"ctrl+\";\n",
       "    if (event.altKey && event.which != 18)\n",
       "        value += \"alt+\";\n",
       "    if (event.shiftKey && event.which != 16)\n",
       "        value += \"shift+\";\n",
       "\n",
       "    value += 'k';\n",
       "    value += event.which.toString();\n",
       "\n",
       "    this._key_event_extra(event, name);\n",
       "\n",
       "    this.send_message(name, {key: value,\n",
       "                             guiEvent: simpleKeys(event)});\n",
       "    return false;\n",
       "}\n",
       "\n",
       "mpl.figure.prototype.toolbar_button_onclick = function(name) {\n",
       "    if (name == 'download') {\n",
       "        this.handle_save(this, null);\n",
       "    } else {\n",
       "        this.send_message(\"toolbar_button\", {name: name});\n",
       "    }\n",
       "};\n",
       "\n",
       "mpl.figure.prototype.toolbar_button_onmouseover = function(tooltip) {\n",
       "    this.message.textContent = tooltip;\n",
       "};\n",
       "mpl.toolbar_items = [[\"Home\", \"Reset original view\", \"fa fa-home icon-home\", \"home\"], [\"Back\", \"Back to  previous view\", \"fa fa-arrow-left icon-arrow-left\", \"back\"], [\"Forward\", \"Forward to next view\", \"fa fa-arrow-right icon-arrow-right\", \"forward\"], [\"\", \"\", \"\", \"\"], [\"Pan\", \"Pan axes with left mouse, zoom with right\", \"fa fa-arrows icon-move\", \"pan\"], [\"Zoom\", \"Zoom to rectangle\", \"fa fa-square-o icon-check-empty\", \"zoom\"], [\"\", \"\", \"\", \"\"], [\"Download\", \"Download plot\", \"fa fa-floppy-o icon-save\", \"download\"]];\n",
       "\n",
       "mpl.extensions = [\"eps\", \"jpeg\", \"pdf\", \"png\", \"ps\", \"raw\", \"svg\", \"tif\"];\n",
       "\n",
       "mpl.default_extension = \"png\";var comm_websocket_adapter = function(comm) {\n",
       "    // Create a \"websocket\"-like object which calls the given IPython comm\n",
       "    // object with the appropriate methods. Currently this is a non binary\n",
       "    // socket, so there is still some room for performance tuning.\n",
       "    var ws = {};\n",
       "\n",
       "    ws.close = function() {\n",
       "        comm.close()\n",
       "    };\n",
       "    ws.send = function(m) {\n",
       "        //console.log('sending', m);\n",
       "        comm.send(m);\n",
       "    };\n",
       "    // Register the callback with on_msg.\n",
       "    comm.on_msg(function(msg) {\n",
       "        //console.log('receiving', msg['content']['data'], msg);\n",
       "        // Pass the mpl event to the overriden (by mpl) onmessage function.\n",
       "        ws.onmessage(msg['content']['data'])\n",
       "    });\n",
       "    return ws;\n",
       "}\n",
       "\n",
       "mpl.mpl_figure_comm = function(comm, msg) {\n",
       "    // This is the function which gets called when the mpl process\n",
       "    // starts-up an IPython Comm through the \"matplotlib\" channel.\n",
       "\n",
       "    var id = msg.content.data.id;\n",
       "    // Get hold of the div created by the display call when the Comm\n",
       "    // socket was opened in Python.\n",
       "    var element = $(\"#\" + id);\n",
       "    var ws_proxy = comm_websocket_adapter(comm)\n",
       "\n",
       "    function ondownload(figure, format) {\n",
       "        window.open(figure.imageObj.src);\n",
       "    }\n",
       "\n",
       "    var fig = new mpl.figure(id, ws_proxy,\n",
       "                           ondownload,\n",
       "                           element.get(0));\n",
       "\n",
       "    // Call onopen now - mpl needs it, as it is assuming we've passed it a real\n",
       "    // web socket which is closed, not our websocket->open comm proxy.\n",
       "    ws_proxy.onopen();\n",
       "\n",
       "    fig.parent_element = element.get(0);\n",
       "    fig.cell_info = mpl.find_output_cell(\"<div id='\" + id + \"'></div>\");\n",
       "    if (!fig.cell_info) {\n",
       "        console.error(\"Failed to find cell for figure\", id, fig);\n",
       "        return;\n",
       "    }\n",
       "\n",
       "    var output_index = fig.cell_info[2]\n",
       "    var cell = fig.cell_info[0];\n",
       "\n",
       "};\n",
       "\n",
       "mpl.figure.prototype.handle_close = function(fig, msg) {\n",
       "    fig.root.unbind('remove')\n",
       "\n",
       "    // Update the output cell to use the data from the current canvas.\n",
       "    fig.push_to_output();\n",
       "    var dataURL = fig.canvas.toDataURL();\n",
       "    // Re-enable the keyboard manager in IPython - without this line, in FF,\n",
       "    // the notebook keyboard shortcuts fail.\n",
       "    IPython.keyboard_manager.enable()\n",
       "    $(fig.parent_element).html('<img src=\"' + dataURL + '\">');\n",
       "    fig.close_ws(fig, msg);\n",
       "}\n",
       "\n",
       "mpl.figure.prototype.close_ws = function(fig, msg){\n",
       "    fig.send_message('closing', msg);\n",
       "    // fig.ws.close()\n",
       "}\n",
       "\n",
       "mpl.figure.prototype.push_to_output = function(remove_interactive) {\n",
       "    // Turn the data on the canvas into data in the output cell.\n",
       "    var dataURL = this.canvas.toDataURL();\n",
       "    this.cell_info[1]['text/html'] = '<img src=\"' + dataURL + '\">';\n",
       "}\n",
       "\n",
       "mpl.figure.prototype.updated_canvas_event = function() {\n",
       "    // Tell IPython that the notebook contents must change.\n",
       "    IPython.notebook.set_dirty(true);\n",
       "    this.send_message(\"ack\", {});\n",
       "    var fig = this;\n",
       "    // Wait a second, then push the new image to the DOM so\n",
       "    // that it is saved nicely (might be nice to debounce this).\n",
       "    setTimeout(function () { fig.push_to_output() }, 1000);\n",
       "}\n",
       "\n",
       "mpl.figure.prototype._init_toolbar = function() {\n",
       "    var fig = this;\n",
       "\n",
       "    var nav_element = $('<div/>')\n",
       "    nav_element.attr('style', 'width: 100%');\n",
       "    this.root.append(nav_element);\n",
       "\n",
       "    // Define a callback function for later on.\n",
       "    function toolbar_event(event) {\n",
       "        return fig.toolbar_button_onclick(event['data']);\n",
       "    }\n",
       "    function toolbar_mouse_event(event) {\n",
       "        return fig.toolbar_button_onmouseover(event['data']);\n",
       "    }\n",
       "\n",
       "    for(var toolbar_ind in mpl.toolbar_items){\n",
       "        var name = mpl.toolbar_items[toolbar_ind][0];\n",
       "        var tooltip = mpl.toolbar_items[toolbar_ind][1];\n",
       "        var image = mpl.toolbar_items[toolbar_ind][2];\n",
       "        var method_name = mpl.toolbar_items[toolbar_ind][3];\n",
       "\n",
       "        if (!name) { continue; };\n",
       "\n",
       "        var button = $('<button class=\"btn btn-default\" href=\"#\" title=\"' + name + '\"><i class=\"fa ' + image + ' fa-lg\"></i></button>');\n",
       "        button.click(method_name, toolbar_event);\n",
       "        button.mouseover(tooltip, toolbar_mouse_event);\n",
       "        nav_element.append(button);\n",
       "    }\n",
       "\n",
       "    // Add the status bar.\n",
       "    var status_bar = $('<span class=\"mpl-message\" style=\"text-align:right; float: right;\"/>');\n",
       "    nav_element.append(status_bar);\n",
       "    this.message = status_bar[0];\n",
       "\n",
       "    // Add the close button to the window.\n",
       "    var buttongrp = $('<div class=\"btn-group inline pull-right\"></div>');\n",
       "    var button = $('<button class=\"btn btn-mini btn-primary\" href=\"#\" title=\"Stop Interaction\"><i class=\"fa fa-power-off icon-remove icon-large\"></i></button>');\n",
       "    button.click(function (evt) { fig.handle_close(fig, {}); } );\n",
       "    button.mouseover('Stop Interaction', toolbar_mouse_event);\n",
       "    buttongrp.append(button);\n",
       "    var titlebar = this.root.find($('.ui-dialog-titlebar'));\n",
       "    titlebar.prepend(buttongrp);\n",
       "}\n",
       "\n",
       "mpl.figure.prototype._root_extra_style = function(el){\n",
       "    var fig = this\n",
       "    el.on(\"remove\", function(){\n",
       "\tfig.close_ws(fig, {});\n",
       "    });\n",
       "}\n",
       "\n",
       "mpl.figure.prototype._canvas_extra_style = function(el){\n",
       "    // this is important to make the div 'focusable\n",
       "    el.attr('tabindex', 0)\n",
       "    // reach out to IPython and tell the keyboard manager to turn it's self\n",
       "    // off when our div gets focus\n",
       "\n",
       "    // location in version 3\n",
       "    if (IPython.notebook.keyboard_manager) {\n",
       "        IPython.notebook.keyboard_manager.register_events(el);\n",
       "    }\n",
       "    else {\n",
       "        // location in version 2\n",
       "        IPython.keyboard_manager.register_events(el);\n",
       "    }\n",
       "\n",
       "}\n",
       "\n",
       "mpl.figure.prototype._key_event_extra = function(event, name) {\n",
       "    var manager = IPython.notebook.keyboard_manager;\n",
       "    if (!manager)\n",
       "        manager = IPython.keyboard_manager;\n",
       "\n",
       "    // Check for shift+enter\n",
       "    if (event.shiftKey && event.which == 13) {\n",
       "        this.canvas_div.blur();\n",
       "        // select the cell after this one\n",
       "        var index = IPython.notebook.find_cell_index(this.cell_info[0]);\n",
       "        IPython.notebook.select(index + 1);\n",
       "    }\n",
       "}\n",
       "\n",
       "mpl.figure.prototype.handle_save = function(fig, msg) {\n",
       "    fig.ondownload(fig, null);\n",
       "}\n",
       "\n",
       "\n",
       "mpl.find_output_cell = function(html_output) {\n",
       "    // Return the cell and output element which can be found *uniquely* in the notebook.\n",
       "    // Note - this is a bit hacky, but it is done because the \"notebook_saving.Notebook\"\n",
       "    // IPython event is triggered only after the cells have been serialised, which for\n",
       "    // our purposes (turning an active figure into a static one), is too late.\n",
       "    var cells = IPython.notebook.get_cells();\n",
       "    var ncells = cells.length;\n",
       "    for (var i=0; i<ncells; i++) {\n",
       "        var cell = cells[i];\n",
       "        if (cell.cell_type === 'code'){\n",
       "            for (var j=0; j<cell.output_area.outputs.length; j++) {\n",
       "                var data = cell.output_area.outputs[j];\n",
       "                if (data.data) {\n",
       "                    // IPython >= 3 moved mimebundle to data attribute of output\n",
       "                    data = data.data;\n",
       "                }\n",
       "                if (data['text/html'] == html_output) {\n",
       "                    return [cell, data, j];\n",
       "                }\n",
       "            }\n",
       "        }\n",
       "    }\n",
       "}\n",
       "\n",
       "// Register the function which deals with the matplotlib target/channel.\n",
       "// The kernel may be null if the page has been refreshed.\n",
       "if (IPython.notebook.kernel != null) {\n",
       "    IPython.notebook.kernel.comm_manager.register_target('matplotlib', mpl.mpl_figure_comm);\n",
       "}\n"
      ],
      "text/plain": [
       "<IPython.core.display.Javascript object>"
      ]
     },
     "metadata": {},
     "output_type": "display_data"
    },
    {
     "data": {
      "text/html": [
       "<img src=\"data:image/png;base64,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\">"
      ],
      "text/plain": [
       "<IPython.core.display.HTML object>"
      ]
     },
     "metadata": {},
     "output_type": "display_data"
    },
    {
     "data": {
      "text/plain": [
       "<matplotlib.text.Text at 0x7f73f9aefb38>"
      ]
     },
     "execution_count": 14,
     "metadata": {},
     "output_type": "execute_result"
    }
   ],
   "source": [
    "x = np.linspace(0,3, 100)\n",
    "y = f(x)\n",
    "plt.plot(x,y)\n",
    "plt.scatter( np.array([0.8083,2.5234]), f(np.array([0.8083,2.5234])) , c='r' )\n",
    "plt.title(\"Figure 4.1 Maximization of $x cos(x^2)$ via golden search\")"
   ]
  },
  {
   "cell_type": "code",
   "execution_count": null,
   "metadata": {
    "collapsed": true
   },
   "outputs": [],
   "source": []
  },
  {
   "cell_type": "code",
   "execution_count": 7,
   "metadata": {
    "collapsed": false
   },
   "outputs": [],
   "source": [
    "alpha1 = (3 - np.sqrt(5)) / 2\n",
    "alpha2 = (np.sqrt(5) - 1) / 2\n",
    "if a > b:\n",
    "    a, b = b, a\n",
    "\n",
    "x1 = a + alpha1 * (b - a)\n",
    "x2 = a + alpha2 * (b - a)\n",
    "\n",
    "f1, f2 = f(x1), f(x2)\n",
    "\n",
    "d = (alpha1 * alpha2)*(b - a)"
   ]
  },
  {
   "cell_type": "code",
   "execution_count": 8,
   "metadata": {
    "collapsed": true
   },
   "outputs": [],
   "source": [
    "while d > tol:\n",
    "    d = d * alpha2\n",
    "    if f2 < f1: # x2 is new upper bound\n",
    "        x2, x1 = x1, x1 - d\n",
    "        f2, f1 = f1, f(x1)\n",
    "    else:  # x1 is new lower bound\n",
    "        x1, x2 = x2, x2 + d\n",
    "        f1, f2 = f2, f(x2)"
   ]
  },
  {
   "cell_type": "code",
   "execution_count": 9,
   "metadata": {
    "collapsed": false
   },
   "outputs": [],
   "source": [
    "#x1 if f1 > f2 else x2"
   ]
  },
  {
   "cell_type": "code",
   "execution_count": 10,
   "metadata": {
    "collapsed": false
   },
   "outputs": [
    {
     "data": {
      "image/png": "[encoded data removed]",
      "text/latex": [
       "$$0.808367411644$$"
      ],
      "text/plain": [
       "0.808367411644"
      ]
     },
     "execution_count": 10,
     "metadata": {},
     "output_type": "execute_result"
    }
   ],
   "source": [
    "if f1>f2:\n",
    "    x = x2\n",
    "else:\n",
    "    x = x1      \n",
    "x    "
   ]
  },
  {
   "cell_type": "code",
   "execution_count": 11,
   "metadata": {
    "collapsed": false
   },
   "outputs": [],
   "source": [
    "def mygolden(f,a, b, maxit = 1000, tol = 1/10000):\n",
    "    alpha1 = (3 - np.sqrt(5)) / 2\n",
    "    alpha2 = (np.sqrt(5) - 1) / 2\n",
    "    if a > b:\n",
    "        a, b = b, a\n",
    "        \n",
    "    x1 = a + alpha1 * (b - a)\n",
    "    x2 = a + alpha2 * (b - a)\n",
    "\n",
    "    f1, f2 = f(x1), f(x2)\n",
    "\n",
    "    d = (alpha1 * alpha2)*(b - a) # initial d\n",
    "    while d > tol:\n",
    "        d = d * alpha2 # alpha2 is the golden ratio\n",
    "        if f2 < f1: # x2 is new upper bound\n",
    "            x2, x1 = x1, x1 - d\n",
    "            f2, f1 = f1, f(x1)\n",
    "        else:  # x1 is new lower bound\n",
    "            x1, x2 = x2, x2 + d\n",
    "            f1, f2 = f2, f(x2)\n",
    "            \n",
    "    if f1>f2:\n",
    "        x = x2\n",
    "    else:\n",
    "        x = x1      \n",
    "    return x    "
   ]
  },
  {
   "cell_type": "code",
   "execution_count": 12,
   "metadata": {
    "collapsed": false
   },
   "outputs": [
    {
     "data": {
      "image/png": "[encoded data removed]",
      "text/latex": [
       "$$0.808367411644$$"
      ],
      "text/plain": [
       "0.808367411644"
      ]
     },
     "execution_count": 12,
     "metadata": {},
     "output_type": "execute_result"
    }
   ],
   "source": [
    "mygolden(f, 0, 3)"
   ]
  },
  {
   "cell_type": "markdown",
   "metadata": {},
   "source": [
    "Execution of this script yields the result $x = 0.8083$. As can be seen in Figure 4.1,\n",
    "this point is a local maximum, but not a global maximum in $[0; 3]$. The golden search\n",
    "method is guaranteed to find the global maximum when the function is concave.\n",
    "However, as the present example makes clear, this need not be true when the optimand\n",
    "is not concave."
   ]
  },
  {
   "cell_type": "markdown",
   "metadata": {},
   "source": [
    "## Nelder-Mead algorithm"
   ]
  },
  {
   "cell_type": "code",
   "execution_count": null,
   "metadata": {
    "collapsed": true
   },
   "outputs": [],
   "source": []
  },
  {
   "cell_type": "markdown",
   "metadata": {
    "collapsed": true
   },
   "source": [
    "Another widely-used derivative-free optimization method for multivariate functions\n",
    "is the **Nelder-Mead algorithm**."
   ]
  },
  {
   "cell_type": "markdown",
   "metadata": {},
   "source": [
    "The Nelder-Mead algorithm is simple, but slow and unreliable. However, if a\n",
    "problem involves only a single optimization or costly function and derivative evaluations,\n",
    "the Nelder-Mead algorithm is worth trying. In many problems an optimization\n",
    "problem that is embedded in a larger problem must be solved repeatedly, with the\n",
    "function parameters perturbed slightly with each iteration. For such problems, which\n",
    "are common is dynamic models, one generally will want to use a method that moves\n",
    "more quickly and reliably to the optimum, given a good starting point.\n",
    "\n",
    "\n",
    "(source: https://en.wikipedia.org/wiki/Nelder%E2%80%93Mead_method)\n",
    "\n",
    "\n",
    "The Nelder–Mead method or downhill simplex method or amoeba method is a commonly applied numerical method used to find the minimum or maximum of an objective function in a multidimensional space. It is applied to nonlinear optimization problems for which derivatives may not be known. However, the Nelder–Mead technique is a heuristic search method that can converge to non-stationary points[1] on problems that can be solved by alternative methods.\n",
    "\n",
    "![](https://upload.wikimedia.org/wikipedia/commons/thumb/e/e4/Nelder-Mead_Rosenbrock.gif/640px-Nelder-Mead_Rosenbrock.gif)\n",
    "\n",
    "(source: http://www.scholarpedia.org/article/Nelder-Mead_algorithm)\n",
    "\n",
    "The Nelder-Mead algorithm or simplex search algorithm, originally published in 1965 (Nelder and Mead, 1965), is one of the best known algorithms for multidimensional unconstrained optimization without derivatives. This method should not be confused with Dantzig's simplex method for linear programming, which is completely different, as it solves a linearly constrained linear problem.\n",
    "\n",
    "The basic algorithm is quite simple to understand and very easy to use. For these reasons, it is very popular in many fields of science and technology, especially in chemistry and medicine.\n",
    "\n",
    "The method does not require any derivative information, which makes it suitable for problems with non-smooth functions. It is widely used to solve parameter estimation and similar statistical problems, where the function values are uncertain or subject to noise. It can also be used for problems with discontinuous functions, which occur frequently in statistics and experimental mathematics."
   ]
  },
  {
   "cell_type": "code",
   "execution_count": 38,
   "metadata": {
    "collapsed": false
   },
   "outputs": [],
   "source": [
    "#https://github.com/fchollet/nelder-mead/blob/master/nelder_mead.py\n",
    "\n",
    "'''\n",
    "    Pure Python/Numpy implementation of the Nelder-Mead algorithm.\n",
    "    Reference: https://en.wikipedia.org/wiki/Nelder%E2%80%93Mead_method\n",
    "'''\n",
    "import copy\n",
    "\n",
    "def nelder_mead(f, x_start,\n",
    "                step=0.1, no_improve_thr=10e-6,\n",
    "                no_improv_break=10, max_iter=0,\n",
    "                alpha=1., gamma=2., rho=-0.5, sigma=0.5):\n",
    "    '''\n",
    "    @param f (function): function to optimize, must return a scalar score\n",
    "        and operate over a numpy array of the same dimensions as x_start\n",
    "    @param x_start (numpy array): initial position\n",
    "    @param step (float): look-around radius in initial step\n",
    "    @no_improv_thr,  no_improv_break (float, int): break after no_improv_break iterations with\n",
    "        an improvement lower than no_improv_thr\n",
    "    @max_iter (int): always break after this number of iterations.\n",
    "        Set it to 0 to loop indefinitely.\n",
    "    @alpha, gamma, rho, sigma (floats): parameters of the algorithm\n",
    "        (see Wikipedia page for reference)\n",
    "    return: tuple (best parameter array, best score)\n",
    "    '''\n",
    "    # init\n",
    "    dim = len(x_start)\n",
    "    prev_best = f(x_start)\n",
    "    no_improv = 0\n",
    "    res = [[x_start, prev_best]]\n",
    "\n",
    "    for i in range(dim):\n",
    "        x = copy.copy(x_start)\n",
    "        x[i] = x[i] + step\n",
    "        score = f(x)\n",
    "        res.append([x, score])\n",
    "\n",
    "    # simplex iter\n",
    "    iters = 0\n",
    "    while 1:\n",
    "        # order\n",
    "        res.sort(key=lambda x: x[1])\n",
    "        best = res[0][1]\n",
    "\n",
    "        # break after max_iter\n",
    "        if max_iter and iters >= max_iter:\n",
    "            return res[0]\n",
    "        iters += 1\n",
    "\n",
    "        # break after no_improv_break iterations with no improvement\n",
    "        print('...best so far:', best)\n",
    "\n",
    "        if best < prev_best - no_improve_thr:\n",
    "            no_improv = 0\n",
    "            prev_best = best\n",
    "        else:\n",
    "            no_improv += 1\n",
    "\n",
    "        if no_improv >= no_improv_break:\n",
    "            return res[0]\n",
    "\n",
    "        # centroid\n",
    "        x0 = [0.] * dim\n",
    "        for tup in res[:-1]:\n",
    "            for i, c in enumerate(tup[0]):\n",
    "                x0[i] += c / (len(res)-1)\n",
    "\n",
    "        # reflection\n",
    "        xr = x0 + alpha*(x0 - res[-1][0])\n",
    "        rscore = f(xr)\n",
    "        if res[0][1] <= rscore < res[-2][1]:\n",
    "            del res[-1]\n",
    "            res.append([xr, rscore])\n",
    "            continue\n",
    "\n",
    "        # expansion\n",
    "        if rscore < res[0][1]:\n",
    "            xe = x0 + gamma*(x0 - res[-1][0])\n",
    "            escore = f(xe)\n",
    "            if escore < rscore:\n",
    "                del res[-1]\n",
    "                res.append([xe, escore])\n",
    "                continue\n",
    "            else:\n",
    "                del res[-1]\n",
    "                res.append([xr, rscore])\n",
    "                continue\n",
    "\n",
    "        # contraction\n",
    "        xc = x0 + rho*(x0 - res[-1][0])\n",
    "        cscore = f(xc)\n",
    "        if cscore < res[-1][1]:\n",
    "            del res[-1]\n",
    "            res.append([xc, cscore])\n",
    "            continue\n",
    "\n",
    "        # reduction\n",
    "        x1 = res[0][0]\n",
    "        nres = []\n",
    "        for tup in res:\n",
    "            redx = x1 + sigma*(tup[0] - x1)\n",
    "            score = f(redx)\n",
    "            nres.append([redx, score])\n",
    "        res = nres\n",
    "\n"
   ]
  },
  {
   "cell_type": "code",
   "execution_count": 51,
   "metadata": {
    "collapsed": true
   },
   "outputs": [],
   "source": [
    "import math\n",
    "import numpy as np\n",
    "\n",
    "# def f(x):\n",
    "#     return math.sin(x[0]) * math.cos(x[1]) * (1. / (abs(x[2]) + 1))\n",
    "\n",
    "#f(x,y) = x^2 - 4*x + y^2 - y - x*y;\n",
    "# f = lambda x: x[0]**2- 4*x[0] + x[1]**2- x[1] - x[0]*x[1]\n",
    "\n",
    "\n",
    "def f(x):\n",
    "    return x[0]**2- 4*x[0] + x[1]**2- x[1] - x[0]*x[1]"
   ]
  },
  {
   "cell_type": "code",
   "execution_count": 50,
   "metadata": {
    "collapsed": false
   },
   "outputs": [
    {
     "name": "stdout",
     "output_type": "stream",
     "text": [
      "...best so far: -0.39\n",
      "...best so far: -0.7275\n",
      "...best so far: -1.393125\n",
      "...best so far: -2.35265625\n",
      "...best so far: -3.5309765625\n",
      "...best so far: -5.22336914063\n",
      "...best so far: -5.22336914063\n",
      "...best so far: -5.4678515625\n",
      "...best so far: -6.54388916016\n",
      "...best so far: -6.54388916016\n",
      "...best so far: -6.79\n",
      "...best so far: -6.79\n",
      "...best so far: -6.82644058228\n",
      "...best so far: -6.89778457642\n",
      "...best so far: -6.94423038483\n",
      "...best so far: -6.98128607035\n",
      "...best so far: -6.98128607035\n",
      "...best so far: -6.99655470744\n",
      "...best so far: -6.99655470744\n",
      "...best so far: -6.99655470744\n",
      "...best so far: -6.99880626416\n",
      "...best so far: -6.99950646219\n",
      "...best so far: -6.99950646219\n",
      "...best so far: -6.99972928513\n",
      "...best so far: -6.99991771801\n",
      "...best so far: -6.99995652906\n",
      "...best so far: -6.99995652906\n",
      "...best so far: -6.99998705445\n",
      "...best so far: -6.99999239547\n",
      "...best so far: -6.99999584097\n",
      "...best so far: -6.99999751173\n",
      "...best so far: -6.99999837535\n",
      "...best so far: -6.99999975505\n",
      "...best so far: -6.99999975505\n",
      "...best so far: -6.99999975505\n",
      "...best so far: -6.99999994341\n",
      "...best so far: -6.99999994341\n",
      "...best so far: -6.99999995028\n",
      "...best so far: -6.99999997999\n",
      "...best so far: -6.99999999846\n",
      "...best so far: -6.99999999846\n"
     ]
    },
    {
     "data": {
      "text/plain": [
       "[array([ 2.99996614,  2.00000911]), -6.9999999984625303]"
      ]
     },
     "execution_count": 50,
     "metadata": {},
     "output_type": "execute_result"
    }
   ],
   "source": [
    "nelder_mead(f, np.array([0., 0.]))"
   ]
  },
  {
   "cell_type": "code",
   "execution_count": 44,
   "metadata": {
    "collapsed": false
   },
   "outputs": [
    {
     "data": {
      "image/jpeg": "[encoded data removed]",
      "text/html": [
       "\n",
       "        <iframe\n",
       "            width=\"400\"\n",
       "            height=\"300\"\n",
       "            src=\"https://www.youtube.com/embed/HUqLxHfxWqU\"\n",
       "            frameborder=\"0\"\n",
       "            allowfullscreen\n",
       "        ></iframe>\n",
       "        "
      ],
      "text/plain": [
       "<IPython.lib.display.YouTubeVideo at 0x7f73f985f470>"
      ]
     },
     "execution_count": 44,
     "metadata": {},
     "output_type": "execute_result"
    }
   ],
   "source": [
    "#https://codesachin.wordpress.com/2016/01/16/nelder-mead-optimization/\n",
    "from IPython.display import YouTubeVideo\n",
    "# Evaluates the function:\n",
    "# f(x,y) = x^2 - 4*x + y^2 - y - x*y;\n",
    "YouTubeVideo(\"HUqLxHfxWqU\")"
   ]
  },
  {
   "cell_type": "markdown",
   "metadata": {},
   "source": [
    "##### Scipy implementation\n",
    "\n",
    "\n",
    "http://www.scipy-lectures.org/advanced/mathematical_optimization/\n",
    "\n",
    "In scipy, scipy.optimize.fmin() implements the Nelder-Mead approach:"
   ]
  },
  {
   "cell_type": "code",
   "execution_count": 53,
   "metadata": {
    "collapsed": false
   },
   "outputs": [
    {
     "name": "stdout",
     "output_type": "stream",
     "text": [
      "Optimization terminated successfully.\n",
      "         Current function value: -7.000000\n",
      "         Iterations: 40\n",
      "         Function evaluations: 73\n"
     ]
    },
    {
     "data": {
      "text/plain": [
       "array([ 2.99998082,  2.00001514])"
      ]
     },
     "execution_count": 53,
     "metadata": {},
     "output_type": "execute_result"
    }
   ],
   "source": [
    "from scipy import optimize\n",
    "\n",
    "optimize.fmin(f, [2, 2])"
   ]
  },
  {
   "cell_type": "markdown",
   "metadata": {},
   "source": [
    "https://docs.scipy.org/doc/scipy/reference/optimize.minimize-neldermead.html\n"
   ]
  },
  {
   "cell_type": "code",
   "execution_count": 55,
   "metadata": {
    "collapsed": false
   },
   "outputs": [
    {
     "data": {
      "text/plain": [
       " final_simplex: (array([[ 2.99998082,  2.00001514],\n",
       "       [ 2.9999984 ,  1.99993767],\n",
       "       [ 2.99993967,  1.99992527]]), array([-7., -7., -7.]))\n",
       "           fun: -6.9999999991122497\n",
       "       message: 'Optimization terminated successfully.'\n",
       "          nfev: 73\n",
       "           nit: 40\n",
       "        status: 0\n",
       "       success: True\n",
       "             x: array([ 2.99998082,  2.00001514])"
      ]
     },
     "execution_count": 55,
     "metadata": {},
     "output_type": "execute_result"
    }
   ],
   "source": [
    "optimize.minimize(f, [2, 2],method='Nelder-Mead')"
   ]
  },
  {
   "cell_type": "code",
   "execution_count": null,
   "metadata": {
    "collapsed": true
   },
   "outputs": [],
   "source": []
  },
  {
   "cell_type": "code",
   "execution_count": null,
   "metadata": {
    "collapsed": true
   },
   "outputs": [],
   "source": []
  },
  {
   "cell_type": "code",
   "execution_count": null,
   "metadata": {
    "collapsed": true
   },
   "outputs": [],
   "source": []
  },
  {
   "cell_type": "code",
   "execution_count": null,
   "metadata": {
    "collapsed": true
   },
   "outputs": [],
   "source": []
  },
  {
   "cell_type": "code",
   "execution_count": null,
   "metadata": {
    "collapsed": true
   },
   "outputs": [],
   "source": []
  },
  {
   "cell_type": "code",
   "execution_count": null,
   "metadata": {
    "collapsed": true
   },
   "outputs": [],
   "source": []
  },
  {
   "cell_type": "code",
   "execution_count": null,
   "metadata": {
    "collapsed": true
   },
   "outputs": [],
   "source": []
  },
  {
   "cell_type": "code",
   "execution_count": null,
   "metadata": {
    "collapsed": true
   },
   "outputs": [],
   "source": []
  },
  {
   "cell_type": "markdown",
   "metadata": {},
   "source": [
    "## 4.2 Newton-Raphson Method"
   ]
  },
  {
   "cell_type": "markdown",
   "metadata": {},
   "source": [
    "banana \" f = ('-100*(x(2)-x(1)^2)^2-(1-x(1))^2')\", so-called because its contours resemble bananas."
   ]
  },
  {
   "cell_type": "code",
   "execution_count": 22,
   "metadata": {
    "collapsed": false
   },
   "outputs": [],
   "source": [
    "f = lambda x,y:(-100*(y-x**2)**2-(1-x)**2)\n",
    "\n",
    "# def f(x,y):\n",
    "#     # the height function\n",
    "#     return (1 - x / 2 + x**5 + y**3) * np.exp(-x**2 -y**2)\n",
    "\n",
    "n = 256\n",
    "x = np.linspace(-0.25, 1.25, n)\n",
    "y = np.linspace(-0.25, 1.25, n)\n",
    "X,Y = np.meshgrid(x, y) \n",
    "\n",
    "plt.figure()\n",
    "x0,y0 = 0,0\n",
    "# use plt.contourf to filling contours\n",
    "# X, Y and value for (X,Y) point\n",
    "plt.contourf(X, Y, f(X, Y), 38, alpha=.75,cmap='bone')# cmap=plt.cm.hot)\n",
    "\n",
    "# use plt.contour to add contour lines\n",
    "C = plt.contour(X, Y, f(X, Y), 38, colors='black', linewidth=.5)\n",
    "\n",
    "plt.clabel(C, inline=True, fontsize=10)\n",
    "# plt.xticks(())\n",
    "# plt.yticks(())\n",
    "\n",
    "# set dot styles\n",
    "plt.scatter([x0, ], [y0, ], s=50, color='b')\n",
    "\n",
    "\n",
    "\n",
    "plt.xlim(-0.25, 1.25)\n",
    "plt.ylim(-0.25, 1.25)"
   ]
  },
  {
   "cell_type": "markdown",
   "metadata": {},
   "source": [
    "The Newton-Raphson method for maximizing an objective function uses successive\n",
    "quadratic approximations to the objective in the hope that the maxima of the approximants\n",
    "will converge to the maximum of the objective. The Newton-Raphson\n",
    "method is intimately related to the Newton method for solving rootfinding problems."
   ]
  },
  {
   "cell_type": "markdown",
   "metadata": {
    "collapsed": true
   },
   "source": [
    "Indeed, the Newton-Raphson method is identical to applying Newton's method to\n",
    "compute the root of the gradient of the objective function."
   ]
  },
  {
   "cell_type": "markdown",
   "metadata": {},
   "source": [
    "The Taylor series of $f(x)$ about the point  $x=x_0 + \\epsilon$ is given by\n",
    "\n",
    "$$f(x_0 + \\epsilon) = f(x_0)+ f'(x_0) \\epsilon +\\frac{1}{2} f''(x_0) \\epsilon^2 $$"
   ]
  },
  {
   "cell_type": "markdown",
   "metadata": {},
   "source": [
    "$$f(x) = f(x^{(k)})+ f'(x^{(k)}) (x-x^{(k)}) + \\frac{1}{2}(x-x^{(k)})^T  f''(x^{(k)}) (x-x^{(k)}) $$"
   ]
  },
  {
   "cell_type": "code",
   "execution_count": null,
   "metadata": {
    "collapsed": true
   },
   "outputs": [],
   "source": []
  },
  {
   "cell_type": "markdown",
   "metadata": {},
   "source": [
    "Solving the first order condition"
   ]
  },
  {
   "cell_type": "code",
   "execution_count": null,
   "metadata": {
    "collapsed": true
   },
   "outputs": [],
   "source": []
  },
  {
   "cell_type": "markdown",
   "metadata": {},
   "source": [
    "$$f'(x^{(k)})+ f''(x^{(k)}) (x-x^{(k)}) = 0$$"
   ]
  },
  {
   "cell_type": "markdown",
   "metadata": {},
   "source": [
    "yields the iteration rule"
   ]
  },
  {
   "cell_type": "markdown",
   "metadata": {},
   "source": [
    "\n",
    "\n",
    "$$x^{(k+1)} \\leftarrow x^{(k)} -  [f''(x^{(k)})]^{-1} f'(x^{(k)}) $$"
   ]
  },
  {
   "cell_type": "markdown",
   "metadata": {},
   "source": [
    "In theory, the Newton-Raphson method converges if $f$ is twice continuously difierentiable\n",
    "and if the initial value of x supplied by the analyst is sufficiently close to a\n",
    "local maximum of $f$ at which the **Hessian $f''$** is negative definite. There is, however,\n",
    "no generally practical formula for determining what sufficiently close is."
   ]
  },
  {
   "cell_type": "code",
   "execution_count": null,
   "metadata": {
    "collapsed": true
   },
   "outputs": [],
   "source": []
  },
  {
   "cell_type": "markdown",
   "metadata": {},
   "source": [
    "The Newton-Raphson method can be robust to the starting\n",
    "value if $f$ is well behaved, for example, if f is **globally concave**. The Newton-Raphson\n",
    "method, however, can be very sensitive to starting value if the function is not globally\n",
    "concave. Also, in practice, the **Hessian $f''$**  must be well-conditioned at the optimum,\n",
    "otherwise rounding errors in the vicinity of the optimum can make it difficult to\n",
    "compute a precise approximate solution."
   ]
  },
  {
   "cell_type": "markdown",
   "metadata": {},
   "source": [
    "The Newton-Raphson algorithm has numerous drawbacks. \n",
    "\n",
    "First, the algorithm\n",
    "requires computation of both the first and second derivatives of the objective function.\n",
    "\n",
    "\n",
    "Second, the Newton-Raphson algorithm offers no **guarantee** that the objective function\n",
    "value may be increased in the direction of the Newton step. Such a guarantee is\n",
    "available only if the Hessian **Hessian $f''(x^k)$** is **negative definite**; otherwise, one may actually\n",
    "move towards a saddle point of f (if the Hessian is indefinite) or even a minimum (if\n",
    "Hessian is **positive definite**).\n",
    "\n",
    "For this reason, the Newton-Raphson method is rarely\n",
    "used in practice, and then only if the objective function is **globally concave**."
   ]
  },
  {
   "cell_type": "markdown",
   "metadata": {},
   "source": [
    "## 4.3 Quasi-Newton Methods"
   ]
  },
  {
   "cell_type": "markdown",
   "metadata": {},
   "source": [
    "\n",
    "Quasi-Newton methods employ a similar strategy to the Newton-Raphson method,\n",
    "but **replace the Hessian of the objective function (or its inverse) with a negative\n",
    "definite approximation, guaranteeing that function value can be increased in the direction\n",
    "of the Newton step**. \n",
    "\n",
    "The most efficient quasi-Newton algorithms employ an\n",
    "approximation to the inverse Hessian, rather than the Hessian itself, in order to avoid\n",
    "performing a linear solve, and employ updating rules that do **not require second\n",
    "derivative information** to ease the burden of implementation and the cost of computation."
   ]
  },
  {
   "cell_type": "markdown",
   "metadata": {
    "collapsed": true
   },
   "source": [
    "In analogy with the Newton-Raphson method, quasi-Newton methods use a search\n",
    "direction of the form"
   ]
  },
  {
   "cell_type": "markdown",
   "metadata": {},
   "source": [
    "$$d^{(k)} = -B^{(k)} f'(x^{(k)})$$"
   ]
  },
  {
   "cell_type": "markdown",
   "metadata": {},
   "source": [
    "where $B^{(k)}$ is an approximation to the **inverse Hessian** of f at the kth iterate $x^{(k)}$.\n",
    "The vector $d^{(k)}$ is called the **Newton or quasi-Newton step**."
   ]
  },
  {
   "cell_type": "markdown",
   "metadata": {},
   "source": [
    "The more robust quasi-Newton methods do not necessarily take the full Newton\n",
    "step, but rather shorten it or lengthen it in order to obtain improvement in the\n",
    "objective function. This is accomplished by performing a line-search in which one\n",
    "seeks a **step length $s > 0$** that maximizes or nearly maximizes $f (x^{(k)} + sd^{(k)})$. Given\n",
    "the computed step length $s^{(k)}$, one updates the iterate as follows:"
   ]
  },
  {
   "cell_type": "markdown",
   "metadata": {},
   "source": [
    "$$x^{(k+1)}=  x^{(k)} + s^{(k)}  d^{(k)}$$"
   ]
  },
  {
   "cell_type": "markdown",
   "metadata": {},
   "source": [
    "Quasi-Newton method differ in how the inverse Hessian approximation Bk is constructed\n",
    "and updated. The simplest quasi-Newton method sets\n",
    "\n",
    "$$B^{(k)} = - I $$, \n",
    "\n",
    "where I is  the identity matrix. This leads to a Newton step that is identical to the gradient of\n",
    "the objective function at the current iterate:\n",
    "\n",
    "\n",
    "$$d^{(k)} = f'(x^{(k)})$$\n",
    "\n",
    "The choice of gradient as a step direction is intuitively appealing because the gradient\n",
    "always points in the direction which, to a first order, promises the greatest increase in\n",
    "f. For this reason, this quasi-Newton method is called the method of *steepest ascent.*'\n",
    "\n",
    "\n",
    "The steepest ascent method is simple to implement, but is numerically *less efiicient*\n",
    "in practice than competing quasi-Newton methods that *incorporate* information regarding\n",
    "the **curvature of the objective function**.\n",
    " \n"
   ]
  },
  {
   "cell_type": "markdown",
   "metadata": {},
   "source": [
    "The **most widely-used** quasi-Newton methods that employ **curvature information**\n",
    "produce a sequence of inverse Hessian estimates that satisfy two conditions. \n",
    "\n",
    "**First,**\n",
    "given that\n",
    "\n",
    "\n",
    "$$d^{(k)} \\approx f''^{-1}(x^{(k)})( f'(x^{(k)}+ d^{(k)} ) - f'(x^{(k)})  )$$\n",
    "\n",
    "the **inverse Hessian estimate** $A^{(-k)}$ is required to satisfy the so-called **quasi-Newton condition:**\n",
    "\n",
    "$$d^{(k)} = B^{(k)} (x^{(k)})( f'(x^{(k)}+ d^{(k)} ) - f'(x^{(k)})  )$$"
   ]
  },
  {
   "cell_type": "markdown",
   "metadata": {},
   "source": [
    "**Second,** the inverse Hessian estimate $A^{(-k)}$  is required to be both **symmetric and\n",
    "negative-definite**, as must be true of the inverse Hessian at a local maximum. The\n",
    "negative definiteness of the Hessian estimate assures that the objective function value\n",
    "can be inreased in the **direction of the Newton step**.\n"
   ]
  },
  {
   "cell_type": "markdown",
   "metadata": {},
   "source": [
    "Two methods that satisfy the quasi-Newton and negative definiteness conditions\n",
    "are the Davidson-Fletcher-Powell (DFP) and **Broyden-Fletcher-Goldfarb-Shano (BFGS)**\n",
    "updating methods. The DFP method uses the updating scheme\n",
    "\n",
    "\n",
    "$$B \\leftarrow B + \\frac{d d^T}{d^T u}  - \\frac{B u u^T B}{u^T B u} $$\n"
   ]
  },
  {
   "cell_type": "markdown",
   "metadata": {},
   "source": [
    "where\n",
    "\n",
    "$$d = x^{(k+1)} - x^{(k)}$$\n",
    "\n",
    "and \n",
    "\n",
    "$$u = f'(x^{(k+1)}) - f'(x^{(k)})$$"
   ]
  },
  {
   "cell_type": "markdown",
   "metadata": {},
   "source": [
    "The BFGS method uses the update scheme\n",
    "\n",
    "\n",
    "$$B \\leftarrow B + \\frac{1}{d^T u}( w d^T + d w^T  - \\frac{w^T u}{d^T u}) d d^T $$\n",
    "\n",
    "where \n",
    "\n",
    "$$w = d - B u$$\n",
    "\n"
   ]
  },
  {
   "cell_type": "markdown",
   "metadata": {},
   "source": [
    "The BFGS algorithm is generally considered superior to DFP, although there\n",
    "are problems for which DFP outperforms BFGS. However, except for the updating\n",
    "formulae, the two methods are identical, so it is easy to implement both and give\n",
    "users the choice."
   ]
  },
  {
   "cell_type": "markdown",
   "metadata": {},
   "source": [
    "The script assumes that the user\n",
    "has written a Python routine f that evaluates the function at an arbitrary point and\n",
    "that the user has specified a starting point x, an initial guess for the inverse Hessian\n",
    "A, a convergence tolerance tol, and a limit on the number of iterations maxit. The\n",
    "script uses an auxiliary algorithm optstep to determine the step length (discussed\n",
    "in the next section). The algorithm also offers the user a choice on how to select the\n",
    "search direction, searchmeth (1-steepest ascent, 2-DFP, 3-BFGS).\n",
    "\n",
    "https://docs.scipy.org/doc/scipy/reference/tutorial/optimize.html"
   ]
  },
  {
   "cell_type": "code",
   "execution_count": 58,
   "metadata": {
    "collapsed": true
   },
   "outputs": [],
   "source": [
    "        # self.step_methods = {'none': self._step_none,\n",
    "        #                      'bhhh': self._step_bhhh,\n",
    "        #                      'bt': self._step_bt,\n",
    "        #                      'golden': self._step_golden\n",
    "        #                      }\n",
    "        # self.search_methods = {'steepest': self._search_steepest,\n",
    "        #                        'bfgs': self._search_bfgs,\n",
    "        #                        'dfp': self._search_dfp\n",
    "        #                        }"
   ]
  },
  {
   "cell_type": "markdown",
   "metadata": {},
   "source": [
    "    step_methods = {'none': _step_none,\n",
    "                             'bhhh': _step_bhhh,\n",
    "                             'bt': _step_bt,\n",
    "                             'golden': _step_golden\n",
    "                             }\n",
    "    search_methods = {'steepest': _search_steepest,\n",
    "                               'bfgs': _search_bfgs,\n",
    "                               'dfp': _search_dfp\n",
    "                               }"
   ]
  },
  {
   "cell_type": "code",
   "execution_count": null,
   "metadata": {
    "collapsed": true
   },
   "outputs": [],
   "source": [
    "#         if self.x0 is None or self.x0[0] is None:\n",
    "#             raise ValueError('Initial value is required to solve a OP, none provided!')"
   ]
  },
  {
   "cell_type": "code",
   "execution_count": 82,
   "metadata": {
    "collapsed": true
   },
   "outputs": [],
   "source": [
    "def f(x):\n",
    "    y = (-100*(x[1]-x[0]**2)**2-(1-x[0])**2)\n",
    "    dy = np.array([2*(1-x[0])+400*(x[1]-x[0]**2)*x[0],  -200*(x[1]-x[0]**2)])\n",
    "    return y,dy"
   ]
  },
  {
   "cell_type": "code",
   "execution_count": 88,
   "metadata": {
    "collapsed": true
   },
   "outputs": [],
   "source": [
    "x_list = list()# last sequence of solutions\n",
    "\n",
    "x0 = np.array([1.,0.])\n",
    "\n",
    "\n",
    "\n",
    "maxit, maxsteps, tol,eps0, eps1,all_x  = 1000, 100, 1/1000,1.0,1.e-12 ,False\n",
    "\n",
    "x_list = [x0]\n"
   ]
  },
  {
   "cell_type": "code",
   "execution_count": 90,
   "metadata": {
    "collapsed": false
   },
   "outputs": [
    {
     "name": "stdout",
     "output_type": "stream",
     "text": [
      "Jacobian was provided by user!\n",
      "Hessian is not provide and reset as normailized identity matrix!\n"
     ]
    }
   ],
   "source": [
    "x = x0\n",
    "k = x.shape[0]\n",
    "\n",
    "\n",
    "\n",
    "\n",
    "eps = np.spacing(1)\n",
    "\n",
    "A = f(x)\n",
    "_is_there_jacobian = (type(A) is tuple) and (len(A) == 2)\n",
    "\n",
    "if _is_there_jacobian:\n",
    "    print('Jacobian was provided by user!')\n",
    "    fx0,g0 = f(x)\n",
    "else:    \n",
    "    print('Jacobian was not provided by user!')\n",
    "    fx0 = f(x)\n",
    "    try:\n",
    "        g0 = jacobian(f,x)\n",
    "    except NameError:\n",
    "        print(\"jacobian function Not in scope!\\n Using identity matrix as jacobian matrix\")\n",
    "        g0 = np.identity(x.size)\n",
    "    else:\n",
    "        print(\"jacobian function In scope!\")\n",
    "\n",
    "B = None        \n",
    "        \n",
    "if B is None:\n",
    "    B =  -np.identity(k) / np.maximum(abs(fx0), 1)\n",
    "    print(\"Hessian is not provide and reset as normailized identity matrix! # steepest ascent\") # steepest ascent"
   ]
  },
  {
   "cell_type": "code",
   "execution_count": 91,
   "metadata": {
    "collapsed": true
   },
   "outputs": [],
   "source": [
    "import warnings"
   ]
  },
  {
   "cell_type": "code",
   "execution_count": null,
   "metadata": {
    "collapsed": true
   },
   "outputs": [],
   "source": [
    "if np.linalg.norm(g0) < eps: # similar to np.all(g0<eps)\n",
    "    return x\n",
    "\n",
    "if np.all(g0 < eps): # similar to np.all(g0<eps)\n",
    "    return x\n",
    "\n",
    "\n",
    "for it in range(maxit):\n",
    "    d = -np.dot(B, g0)  # search direction\n",
    "    if (np.inner(d, g0) / (np.inner(d, d))) < eps1:  # must go uphill\n",
    "        B =  -np.identity(k) / np.maximum(abs(fx0), 1) # otherwise use\n",
    "        d = g0 / np.maximum(np.abs(f0), 1)  # steepest ascent\n",
    "\n",
    "    s, f = step(self, x, f0, g0, d)\n",
    "    if f <= f0:\n",
    "        if self.reset:\n",
    "            warnings.warn('Iterations stuck in qnewton')\n",
    "            self.x = x\n",
    "            return x\n",
    "        else:\n",
    "            self.reset_inverse_hessian(f0)\n",
    "            d = g0.T / np.maximum(abs(f0), 1)  # steepest ascent\n",
    "            s, f = self.step(self, x, f0, g0, d)\n",
    "            if self.errcode:\n",
    "                warnings.warn('Cannot find suitable step in qnewton')\n",
    "                self.x = x\n",
    "                return x\n",
    "    d *= s\n",
    "    x = x + d\n",
    "    if all_x:\n",
    "        self._x_list.append(x.copy())\n",
    "\n",
    "    if np.any(np.isnan(x) | np.isinf(x)):\n",
    "        raise ValueError('NaNs or Infs encountered')\n",
    "    f = self.f(x)\n",
    "    g = self.jacobian(x)\n",
    "    self.opts.print_current_iteration(it, 0, np.linalg.norm(d))  # FIXME Mario's report more fields\n",
    "\n",
    "    # Test convergence using Marquardt's criteria and gradient test\n",
    "    if ((f - f0) / (abs(f) + eps0) < tol and\n",
    "            np.all(np.abs(d) / (np.abs(x) + eps0) < tol)) or\\\n",
    "            np.all(np.abs(g) < eps):\n",
    "        self.x = x\n",
    "        return x\n",
    "\n",
    "    # Update inverse Hessian\n",
    "    u = g - g0  # change in Jacobian\n",
    "    ud = np.inner(u, d)\n",
    "    if np.all(np.abs(ud) < eps):\n",
    "        self.reset_inverse_hessian(f)\n",
    "    else:\n",
    "        self.search(self, f, u, d)\n",
    "\n",
    "    # Update iteration\n",
    "    f0 = f\n",
    "    g0 = g\n",
    "\n",
    "self.opts.print_last_iteration(it)\n",
    "warnings.warn('Maximum iterations exceeded in qnewton')"
   ]
  },
  {
   "cell_type": "code",
   "execution_count": null,
   "metadata": {
    "collapsed": true
   },
   "outputs": [],
   "source": []
  },
  {
   "cell_type": "code",
   "execution_count": null,
   "metadata": {
    "collapsed": true
   },
   "outputs": [],
   "source": []
  },
  {
   "cell_type": "code",
   "execution_count": null,
   "metadata": {
    "collapsed": true
   },
   "outputs": [],
   "source": []
  },
  {
   "cell_type": "code",
   "execution_count": null,
   "metadata": {
    "collapsed": true
   },
   "outputs": [],
   "source": []
  },
  {
   "cell_type": "markdown",
   "metadata": {
    "collapsed": true
   },
   "source": [
    "## 4.4 Line Search Methods\n",
    "Just as was the case with rootfinding problems, it is not always best to take a full\n",
    "Newton step. In fact, it may be better to either stop short or move past the Newton\n",
    "step. If we view the Newton step as defining a *search direction*, performing a onedimensional\n",
    "search in that direction will generally produce improved results."
   ]
  },
  {
   "cell_type": "markdown",
   "metadata": {},
   "source": [
    "A number of diffierent line\n",
    "search methods are used in practice, including the golden search method. \n",
    "\n",
    "The **golden\n",
    "search** algorithm is very reliable, but computationally inefficient. Two alternative\n",
    "schemes are typically used in practice to perform line searches. \n",
    "\n",
    "The first, known as\n",
    "the **Armijo search**, is similar to the backstepping algorithm used in rootfinding and\n",
    "\n",
    "complementarity problems. The idea is to find the minimum power j such that\n"
   ]
  },
  {
   "cell_type": "code",
   "execution_count": null,
   "metadata": {
    "collapsed": true
   },
   "outputs": [],
   "source": []
  },
  {
   "cell_type": "code",
   "execution_count": null,
   "metadata": {
    "collapsed": true
   },
   "outputs": [],
   "source": []
  },
  {
   "cell_type": "code",
   "execution_count": null,
   "metadata": {
    "collapsed": true
   },
   "outputs": [],
   "source": []
  },
  {
   "cell_type": "code",
   "execution_count": null,
   "metadata": {
    "collapsed": true
   },
   "outputs": [],
   "source": []
  }
 ],
 "metadata": {
  "kernelspec": {
   "display_name": "Python 3",
   "language": "python",
   "name": "python3"
  },
  "language_info": {
   "codemirror_mode": {
    "name": "ipython",
    "version": 3
   },
   "file_extension": ".py",
   "mimetype": "text/x-python",
   "name": "python",
   "nbconvert_exporter": "python",
   "pygments_lexer": "ipython3",
   "version": "3.5.2"
  }
 },
 "nbformat": 4,
 "nbformat_minor": 1
}
