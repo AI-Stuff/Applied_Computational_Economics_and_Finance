{
 "cells": [
  {
   "cell_type": "markdown",
   "metadata": {},
   "source": [
    "# 3 Nonlinear Equations and Complementarity Problems "
   ]
  },
  {
   "cell_type": "code",
   "execution_count": null,
   "metadata": {
    "collapsed": false,
    "deletable": true,
    "editable": true
   },
   "outputs": [],
   "source": [
    "#%pylab inline\n",
    "%pylab notebook\n",
    "# pylab Populating the interactive namespace from numpy and matplotlib\n",
    "# numpy for numerical computation\n",
    "# matplotlib for ploting\n",
    "import numpy as np\n",
    "from numpy import append, array, diagonal, tril, triu\n",
    "from numpy.linalg import inv\n",
    "from scipy.linalg import lu\n",
    "#from scipy.linalg import solve\n",
    "from pprint import pprint\n",
    "from numpy import array, zeros, diag, diagflat, dot\n",
    "\n",
    "from sympy import *\n",
    "import sympy as sym\n",
    "init_printing()"
   ]
  },
  {
   "cell_type": "markdown",
   "metadata": {},
   "source": [
    "One of the most basic numerical operations encountered in computational economics\n",
    "is to find the solution of a system of nonlinear equations. Nonlinear equations generally\n",
    "arise in one of two forms. In the nonlinear *rootfinding problem*, a function f\n",
    "mapping $R^n$ to $R^n$ is given and one must compute an n-vector $x$, called a *root* of $f$,\n",
    "that satisfies\n",
    "\n",
    "$$f(x) = 0$$\n",
    "\n",
    "\n",
    "In the nonlinear fixed-point problem, a function $g$ from $R^n$ to $R^n$ is given and one\n",
    "must compute an n-vector x called a fixed-point of $g$, that satisfies\n",
    "\n",
    "$$x = g(x)$$\n",
    "\n",
    "\n",
    "The two forms are equivalent. The rootfinding problem may be recast as a fixed-point\n",
    "problem by letting $g(x) = x - f(x)$; conversely, the fixed-point problem may be recast\n",
    "as a rootfinding problem by letting $f(x) = x - g(x)$.\n",
    "\n",
    "\n",
    "In the related complementarity problem, two n-vectors $a$ and $b$, with $a < b$, and\n",
    "a function f from $R^n$ to $R^n$ are given, and one must compute an n-vector $x \\in [a; b]$,\n",
    "that satisfies\n",
    "\n",
    "\n",
    "$$x_i > a_i \\rightarrow f_i(x) \\forall i = 1,...,n$$\n",
    "\n",
    "$$x_i < b_i \\rightarrow f_i(x) \\forall i = 1,...,n$$\n",
    "\n",
    "\n",
    "The rootfinding problem is a special case of complementarity problem in which $a_i =\n",
    "-\\inf$ and $b_i = +\\inf$ for all i. However, the complementarity problem is not simply to\n",
    "find a root that lies within specified bounds. An element $f_i(x)$ may be nonzero at a\n",
    "solution of the complementarity problem, provided that $x_i$ equals one of the bounds\n",
    "$a_i$ or $b_i$.\n",
    "\n",
    "\n",
    "\n",
    "\n",
    "https://github.com/QuantEcon/QuantEcon.lectures.code\n"
   ]
  },
  {
   "cell_type": "code",
   "execution_count": null,
   "metadata": {
    "collapsed": true
   },
   "outputs": [],
   "source": []
  },
  {
   "cell_type": "markdown",
   "metadata": {},
   "source": [
    "## 3.1 Bisection Method"
   ]
  },
  {
   "cell_type": "markdown",
   "metadata": {},
   "source": [
    "The bisection method is perhaps the simplest and most robust method for computing\n",
    "the root of a continuous real-valued function defined on a bounded interval of the real line.\n",
    "\n"
   ]
  },
  {
   "cell_type": "markdown",
   "metadata": {},
   "source": [
    "The bisection method is an iterative procedure. Each iteration begins with an\n",
    "interval known to contain or to bracket a root of f, meaning the function has diffierent\n",
    "signs at the interval endpoints. The interval is bisected into two subintervals of equal\n",
    "length."
   ]
  },
  {
   "cell_type": "markdown",
   "metadata": {},
   "source": [
    "The bisection method's greatest strength is its robustness. In contrast to other\n",
    "rootfinding methods, the bisection method is guaranteed to compute a root to a\n",
    "prescribed tolerance in a known number of iterations, provided valid data are input.\n",
    "\n",
    "\n",
    "https://lectures.quantecon.org/py/scipy.html#roots-and-fixed-points"
   ]
  },
  {
   "cell_type": "markdown",
   "metadata": {},
   "source": [
    "https://en.wikipedia.org/wiki/Bisection_method\n",
    "\n",
    "![](https://upload.wikimedia.org/wikipedia/commons/thumb/8/8c/Bisection_method.svg/375px-Bisection_method.svg.png)"
   ]
  },
  {
   "cell_type": "code",
   "execution_count": null,
   "metadata": {
    "collapsed": true
   },
   "outputs": [],
   "source": []
  },
  {
   "cell_type": "code",
   "execution_count": null,
   "metadata": {
    "collapsed": true
   },
   "outputs": [],
   "source": []
  },
  {
   "cell_type": "code",
   "execution_count": null,
   "metadata": {
    "collapsed": true
   },
   "outputs": [],
   "source": []
  },
  {
   "cell_type": "code",
   "execution_count": null,
   "metadata": {
    "collapsed": true
   },
   "outputs": [],
   "source": []
  },
  {
   "cell_type": "code",
   "execution_count": null,
   "metadata": {
    "collapsed": true
   },
   "outputs": [],
   "source": [
    "def bisect(f, a, b, tol=10e-5):\n",
    "    \"\"\"\n",
    "    Implements the bisection root finding algorithm, assuming that f is a\n",
    "    real-valued function on [a, b] satisfying f(a) < 0 < f(b).\n",
    "    \"\"\"\n",
    "    lower, upper = a, b\n",
    "\n",
    "    while upper - lower > tol:\n",
    "        middle = 0.5 * (upper + lower)\n",
    "        # === if root is between lower and middle === #\n",
    "        if f(middle) > 0:  \n",
    "            lower, upper = lower, middle\n",
    "        # === if root is between middle and upper  === #\n",
    "        else:              \n",
    "            lower, upper = middle, upper\n",
    "\n",
    "    return 0.5 * (upper + lower)"
   ]
  },
  {
   "cell_type": "markdown",
   "metadata": {},
   "source": [
    "In fact SciPy provides it’s own bisection function,"
   ]
  },
  {
   "cell_type": "code",
   "execution_count": null,
   "metadata": {
    "collapsed": false
   },
   "outputs": [],
   "source": [
    "from scipy.optimize import bisect\n",
    "\n",
    "f = lambda x: np.sin(4 * (x - 0.25)) + x + x**20 - 1\n",
    "bisect(f, 0, 1)"
   ]
  },
  {
   "cell_type": "code",
   "execution_count": null,
   "metadata": {
    "collapsed": true
   },
   "outputs": [],
   "source": []
  },
  {
   "cell_type": "code",
   "execution_count": null,
   "metadata": {
    "collapsed": true
   },
   "outputs": [],
   "source": []
  },
  {
   "cell_type": "code",
   "execution_count": null,
   "metadata": {
    "collapsed": true
   },
   "outputs": [],
   "source": []
  },
  {
   "cell_type": "code",
   "execution_count": null,
   "metadata": {
    "collapsed": true
   },
   "outputs": [],
   "source": []
  },
  {
   "cell_type": "code",
   "execution_count": null,
   "metadata": {
    "collapsed": true
   },
   "outputs": [],
   "source": []
  },
  {
   "cell_type": "code",
   "execution_count": null,
   "metadata": {
    "collapsed": true
   },
   "outputs": [],
   "source": []
  },
  {
   "cell_type": "code",
   "execution_count": null,
   "metadata": {
    "collapsed": true
   },
   "outputs": [],
   "source": []
  },
  {
   "cell_type": "markdown",
   "metadata": {},
   "source": [
    "## 3.2 Function Iteration\n",
    "Function iteration is a relatively simple technique that may be used to compute a\n",
    "fixed-point, $x = g(x)$, of a function from $R^n$ to $R^n$. The technique is also applicable\n",
    "to a rootfinding problem $f(x) = 0$, by recasting it as the equivalent fixed-point\n",
    "problem $x = x - f(x)$.\n"
   ]
  },
  {
   "cell_type": "markdown",
   "metadata": {},
   "source": [
    "https://en.wikipedia.org/wiki/Fixed-point_iteration\n",
    "\n",
    "\n",
    "![](https://upload.wikimedia.org/wikipedia/commons/thumb/8/8b/Sine_fixed_point.svg/375px-Sine_fixed_point.svg.png)"
   ]
  },
  {
   "cell_type": "code",
   "execution_count": null,
   "metadata": {
    "collapsed": true
   },
   "outputs": [],
   "source": []
  },
  {
   "cell_type": "code",
   "execution_count": null,
   "metadata": {
    "collapsed": true
   },
   "outputs": [],
   "source": []
  },
  {
   "cell_type": "markdown",
   "metadata": {},
   "source": [
    "SciPy has a function for finding (scalar) fixed points too"
   ]
  },
  {
   "cell_type": "code",
   "execution_count": null,
   "metadata": {
    "collapsed": false
   },
   "outputs": [],
   "source": [
    "from scipy.optimize import fixed_point\n",
    "\n",
    "fixed_point(lambda x: x**0.5, 0.4)  # 10.0 is an initial guess"
   ]
  },
  {
   "cell_type": "code",
   "execution_count": null,
   "metadata": {
    "collapsed": true
   },
   "outputs": [],
   "source": []
  },
  {
   "cell_type": "code",
   "execution_count": null,
   "metadata": {
    "collapsed": true
   },
   "outputs": [],
   "source": []
  },
  {
   "cell_type": "markdown",
   "metadata": {},
   "source": [
    "## 3.3 Newton's Method\n",
    "\n",
    "\n",
    "In practice, most nonlinear rootfinding problems are solved using *Newton's method*\n",
    "or one of its variants. Newton's method is based on the principle of *successive lin-\n",
    "earization*. Successive linearization calls for a hard nonlinear problem to be replaced\n",
    "with a sequence of simpler linear problems whose solutions converge to the solution\n",
    "of the nonlinear problem. Newton's method is typically formulated as a rootfinding\n",
    "technique, but may be used to solve a fixed-point problem $x = g(x)$ by recasting it\n",
    "as the rootfinding problem $f(x) = x - g(x) = 0$.\n"
   ]
  },
  {
   "cell_type": "markdown",
   "metadata": {},
   "source": [
    "https://en.wikipedia.org/wiki/Newton%27s_method\n",
    "\n",
    "![](https://upload.wikimedia.org/wikipedia/commons/thumb/e/e0/NewtonIteration_Ani.gif/450px-NewtonIteration_Ani.gif)\n",
    "\n"
   ]
  },
  {
   "cell_type": "code",
   "execution_count": null,
   "metadata": {
    "collapsed": true
   },
   "outputs": [],
   "source": []
  },
  {
   "cell_type": "code",
   "execution_count": null,
   "metadata": {
    "collapsed": true
   },
   "outputs": [],
   "source": []
  },
  {
   "cell_type": "markdown",
   "metadata": {},
   "source": [
    "In SciPy this algorithm is implemented by scipy.optimize.newton\n",
    "\n",
    "Unlike bisection, the Newton-Raphson method uses local slope information\n",
    "\n",
    "This is a double-edged sword:\n",
    "\n",
    "- When the function is well-behaved, the Newton-Raphson method is faster than bisection\n",
    "- When the function is less well-behaved, the Newton-Raphson might fail\n"
   ]
  },
  {
   "cell_type": "code",
   "execution_count": null,
   "metadata": {
    "collapsed": false
   },
   "outputs": [],
   "source": [
    "from scipy.optimize import newton\n",
    "\n",
    "f = lambda x: x**3 -2\n",
    "\n",
    "newton(f, 0.2)   # Start the search at initial condition x = 0.2"
   ]
  },
  {
   "cell_type": "code",
   "execution_count": null,
   "metadata": {
    "collapsed": true
   },
   "outputs": [],
   "source": []
  },
  {
   "cell_type": "markdown",
   "metadata": {},
   "source": [
    "### Example: Cournot Duopoly\n",
    "\n"
   ]
  },
  {
   "cell_type": "code",
   "execution_count": null,
   "metadata": {
    "collapsed": true
   },
   "outputs": [],
   "source": []
  },
  {
   "cell_type": "markdown",
   "metadata": {},
   "source": [
    "## 3.4 Quasi-Newton Methods\n",
    "\n",
    "Quasi-Newton methods offer an alternative to Newton's method for solving rootfinding\n",
    "problems. Quasi-Newton methods are based on the same successive linearization\n",
    "principle as Newton's method, except that they replace the Jacobian $f'$ with an\n",
    "estimate that is easier to compute. Quasi-Newton methods are easier to implement\n",
    "and less likely to fail due to programming errors than Newton's method because the\n",
    "analyst need not explicitly code the derivative expressions. Quasi-Newton methods,\n",
    "however, often converge more slowly than Newton's method and additionally require\n",
    "the analyst to supply an initial estimate of the function's Jacobian.\n",
    "The secant method is the most widely used univariate quasi-Newton method. The\n",
    "secant method is identical to the univariate Newton method, except that it replaces\n",
    "the derivative of f with a finite-difference approximation constructed from the function\n",
    "values at the two previous iterates:\n",
    "\n"
   ]
  },
  {
   "cell_type": "markdown",
   "metadata": {},
   "source": [
    "https://en.wikipedia.org/wiki/Secant_method\n",
    "\n",
    "![](https://upload.wikimedia.org/wikipedia/commons/thumb/9/92/Secant_method.svg/450px-Secant_method.svg.png)\n",
    "\n",
    "\n",
    "\n",
    "\n",
    "\n",
    "$${\\displaystyle x_{n}=x_{n-1}-f(x_{n-1}){\\frac {x_{n-1}-x_{n-2}}{f(x_{n-1})-f(x_{n-2})}}={\\frac {x_{n-2}f(x_{n-1})-x_{n-1}f(x_{n-2})}{f(x_{n-1})-f(x_{n-2})}}}  $$"
   ]
  },
  {
   "cell_type": "code",
   "execution_count": null,
   "metadata": {
    "collapsed": true
   },
   "outputs": [],
   "source": []
  },
  {
   "cell_type": "code",
   "execution_count": null,
   "metadata": {
    "collapsed": true
   },
   "outputs": [],
   "source": []
  },
  {
   "cell_type": "code",
   "execution_count": null,
   "metadata": {
    "collapsed": true
   },
   "outputs": [],
   "source": []
  },
  {
   "cell_type": "markdown",
   "metadata": {},
   "source": [
    "## 3.5 Problems With Newton Methods\n",
    "\n",
    "\n",
    "\n",
    "Several difficulties commonly arise in the application of Newton and quasi-Newton\n",
    "methods to solving multivariate non-linear equations. The most common cause of\n",
    "failure of Newton-type methods is coding errors committed by the analyst. The next\n",
    "most common cause of failure is the specification of a starting point that is not sufficiently\n",
    "close to a root. And yet another common cause of failure is an ill-conditioned\n",
    "Jacobian at the root. These problems can often be mitigated by appropriate action,\n",
    "though they cannot always be eliminated altogether."
   ]
  },
  {
   "cell_type": "code",
   "execution_count": null,
   "metadata": {
    "collapsed": true
   },
   "outputs": [],
   "source": []
  },
  {
   "cell_type": "code",
   "execution_count": null,
   "metadata": {
    "collapsed": true
   },
   "outputs": [],
   "source": []
  },
  {
   "cell_type": "markdown",
   "metadata": {},
   "source": [
    "## 3.6 Choosing a Solution Method\n",
    "\n",
    "\n",
    "Numerical analysts have special terms that they use to classify the rates at which\n",
    "iterative routines converge. Specifically, a sequence of iterates x(k) is said to converge\n",
    "to $x^{k}$ at a rate of order p if there is constant $C > 0$ such that\n",
    "\n",
    "\n",
    "\n",
    "\n",
    "$$ ||x^{(k+1)} - x^*|| <=  C ||x^{(k)} - x^*||^p $$\n",
    "\n",
    "\n",
    "for suÆciently large k. In particular, the rate of convergence is said to be linear if\n",
    "$C < 1$ and $p = 1$, superlinear if $1 < p < 2$, and quadratic if $p = 2$.\n",
    "\n",
    "\n",
    "\n",
    "The asymptotic rates of convergence of the nonlinear equation solution methods\n",
    "discussed earlier are well known. The bisection method converges at a linear rate\n",
    "with $C = 1/2$.\n",
    "\n"
   ]
  },
  {
   "cell_type": "code",
   "execution_count": null,
   "metadata": {
    "collapsed": true
   },
   "outputs": [],
   "source": []
  },
  {
   "cell_type": "markdown",
   "metadata": {},
   "source": [
    "## 3.7 Complementarity Problems\n",
    "\n",
    "\n",
    "Many economic models naturally take the form of a complementary problem rather\n",
    "than a rootfinding or fixed point problem. In the complementarity problem, two n-\n",
    "vectors a and b, with a < b, and a function f from $R^n$ to $R^n$  are given, and one must\n",
    "find an n-vector $x \\in [a; b]$, that satisfies\n",
    "\n",
    "\n",
    "\n",
    "\n",
    "$$x_i > a_i \\rightarrow f_i(x) \\forall i = 1,...,n$$\n",
    "\n",
    "$$x_i < b_i \\rightarrow f_i(x) \\forall i = 1,...,n$$\n"
   ]
  },
  {
   "cell_type": "code",
   "execution_count": null,
   "metadata": {
    "collapsed": true
   },
   "outputs": [],
   "source": []
  },
  {
   "cell_type": "markdown",
   "metadata": {},
   "source": [
    "## 3.8 Complementarity Methods\n",
    "\n",
    "\n",
    "\n",
    "Although the complementarity problem appears quite diffierent from the ordinary\n",
    "rootfinding problem, it actually can be reformulated as one. In particular, x solves the\n",
    "complementarity problem $CP(f; a; b)$ if and only if it solves the rootfinding problem\n",
    "\n",
    "\n",
    "$$ f(x) =min(max(f(x), a - x), b - x) = 0$$\n"
   ]
  },
  {
   "cell_type": "code",
   "execution_count": null,
   "metadata": {
    "collapsed": true
   },
   "outputs": [],
   "source": []
  },
  {
   "cell_type": "code",
   "execution_count": null,
   "metadata": {
    "collapsed": true
   },
   "outputs": [],
   "source": []
  },
  {
   "cell_type": "code",
   "execution_count": null,
   "metadata": {
    "collapsed": true
   },
   "outputs": [],
   "source": []
  },
  {
   "cell_type": "code",
   "execution_count": null,
   "metadata": {
    "collapsed": true
   },
   "outputs": [],
   "source": []
  },
  {
   "cell_type": "code",
   "execution_count": null,
   "metadata": {
    "collapsed": true
   },
   "outputs": [],
   "source": []
  },
  {
   "cell_type": "code",
   "execution_count": null,
   "metadata": {
    "collapsed": true
   },
   "outputs": [],
   "source": []
  },
  {
   "cell_type": "code",
   "execution_count": null,
   "metadata": {
    "collapsed": true
   },
   "outputs": [],
   "source": []
  }
 ],
 "metadata": {
  "kernelspec": {
   "display_name": "Python 3",
   "language": "python",
   "name": "python3"
  },
  "language_info": {
   "codemirror_mode": {
    "name": "ipython",
    "version": 3
   },
   "file_extension": ".py",
   "mimetype": "text/x-python",
   "name": "python",
   "nbconvert_exporter": "python",
   "pygments_lexer": "ipython3",
   "version": "3.5.2"
  }
 },
 "nbformat": 4,
 "nbformat_minor": 2
}
