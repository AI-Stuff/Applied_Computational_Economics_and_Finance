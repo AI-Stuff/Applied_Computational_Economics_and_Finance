{
 "cells": [
  {
   "cell_type": "markdown",
   "metadata": {
    "collapsed": true
   },
   "source": [
    "# Exercises03\n",
    "## 3.1. \n",
    "\n",
    "\n",
    "If $x = \\sqrt c $ then $x^2 - c = 0$.\n",
    "\n",
    "- a) Use this root condition to construct a Newton's method for determining the\n",
    "square root that uses only simple arithmetic operations (addition, subtraction,\n",
    "multiplication and division).\n",
    "\n",
    "\n",
    "- b) Given an arbitrary value of c > 0, how would you find a starting value to\n",
    "begin Newton's method?\n",
    "\n",
    "\n",
    "- c) Write a python function\n",
    "\n",
    "      function x=newtroot(c)\n",
    "\n",
    "that implements the method. The procedure should be self-contained (i.e., it\n",
    "should not call a generic root-finding algorithm).\n",
    "\n"
   ]
  },
  {
   "cell_type": "code",
   "execution_count": 1,
   "metadata": {
    "collapsed": false
   },
   "outputs": [
    {
     "name": "stdout",
     "output_type": "stream",
     "text": [
      "newtroot(1) = 1\n",
      "newtroot(25) = 5\n",
      "newtroot(49) = 7\n",
      "newtroot(30.25) = 5.5\n",
      "newtroot(100) = 10\n"
     ]
    }
   ],
   "source": [
    "def newtroot(c):\n",
    "    x = c / 2 # a starting value to begin Newton's method\n",
    "    for it in range(150):\n",
    "        fx = x ** 2 - c\n",
    "        if abs(fx) < 1.e-9:\n",
    "            break\n",
    "        else:\n",
    "            x = x - fx / (2 * x) # 2*x is the jacobian\n",
    "\n",
    "    return x\n",
    "\n",
    "# testing with some known values\n",
    "for c in [1.0, 25.0, 49.0, 30.25, 100]:\n",
    "    print('newtroot({:g}) = {:g}'.format(c, newtroot(c)))"
   ]
  },
  {
   "cell_type": "markdown",
   "metadata": {},
   "source": [
    "## 3.2\n",
    "The computation of $ \\sqrt {1+c^2} - 1$ can fail due to overflow or underflow: when $c$\n",
    "is large, squaring it can exceed the largest representable number (realmax? in Python), whereas when c is small, the addition $1 + c^2$ will be truncated to 1.\n",
    "Noting that $x = \\sqrt{1 + c^2} - 1$ is equivalent to the condition\n",
    "$$(x + 1)^2 - (1 + c^2) = 0$$\n",
    "Determine the iterations of the Newton method for finding x and a good starting\n",
    "value for the iterations. Write a Python program that accepts c and returns\n",
    "x, using only simple arithmetic operations (i.e., do not use power, log, square\n",
    "root operators). The procedure should be self-contained (i.e., it should not call\n",
    "a generic root-finding algorithm). Be sure to deal with the overflow problem."
   ]
  },
  {
   "cell_type": "code",
   "execution_count": 2,
   "metadata": {
    "collapsed": false
   },
   "outputs": [
    {
     "name": "stdout",
     "output_type": "stream",
     "text": [
      "newtroot2(0) = 0\n",
      "newtroot2(1) = 0.414214\n",
      "newtroot2(1e-12) = 1e-12\n",
      "newtroot2(1e+250) = 1e+250\n"
     ]
    }
   ],
   "source": [
    "def newtroot2(c):\n",
    "    x = abs(c) # starting value\n",
    "    for it in range(150):\n",
    "        step = (x + 1 - ((1 + c) / (1 + x)) * (1 + c) + 2 * (c / (1 + x))) / 2\n",
    "        if abs(step) < 1.e-9:\n",
    "            break\n",
    "        else:\n",
    "            x =x - step\n",
    "\n",
    "    return x\n",
    "\n",
    "# testing with some extreme values\n",
    "for c in [0.0, 1.0, 1.e-12, 1.e250]:\n",
    "    print('newtroot2({:g}) = {:g}'.format(c, newtroot2(c)))"
   ]
  },
  {
   "cell_type": "code",
   "execution_count": null,
   "metadata": {
    "collapsed": true
   },
   "outputs": [],
   "source": []
  },
  {
   "cell_type": "markdown",
   "metadata": {
    "collapsed": true
   },
   "source": [
    "\n"
   ]
  },
  {
   "cell_type": "code",
   "execution_count": null,
   "metadata": {
    "collapsed": true
   },
   "outputs": [],
   "source": []
  },
  {
   "cell_type": "code",
   "execution_count": null,
   "metadata": {
    "collapsed": true
   },
   "outputs": [],
   "source": []
  },
  {
   "cell_type": "code",
   "execution_count": null,
   "metadata": {
    "collapsed": true
   },
   "outputs": [],
   "source": []
  },
  {
   "cell_type": "code",
   "execution_count": null,
   "metadata": {
    "collapsed": true
   },
   "outputs": [],
   "source": []
  },
  {
   "cell_type": "code",
   "execution_count": null,
   "metadata": {
    "collapsed": true
   },
   "outputs": [],
   "source": []
  },
  {
   "cell_type": "code",
   "execution_count": null,
   "metadata": {
    "collapsed": true
   },
   "outputs": [],
   "source": []
  }
 ],
 "metadata": {
  "kernelspec": {
   "display_name": "Python 3",
   "language": "python",
   "name": "python3"
  },
  "language_info": {
   "codemirror_mode": {
    "name": "ipython",
    "version": 3
   },
   "file_extension": ".py",
   "mimetype": "text/x-python",
   "name": "python",
   "nbconvert_exporter": "python",
   "pygments_lexer": "ipython3",
   "version": "3.5.2"
  }
 },
 "nbformat": 4,
 "nbformat_minor": 1
}
