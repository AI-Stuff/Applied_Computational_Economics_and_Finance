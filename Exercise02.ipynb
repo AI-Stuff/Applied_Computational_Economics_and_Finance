{
 "cells": [
  {
   "cell_type": "markdown",
   "metadata": {
    "collapsed": true,
    "deletable": true,
    "editable": true
   },
   "source": [
    "# Exercise"
   ]
  },
  {
   "cell_type": "code",
   "execution_count": null,
   "metadata": {
    "collapsed": false,
    "deletable": true,
    "editable": true
   },
   "outputs": [],
   "source": [
    "#%pylab inline\n",
    "%pylab notebook\n",
    "# pylab Populating the interactive namespace from numpy and matplotlib\n",
    "# numpy for numerical computation\n",
    "# matplotlib for ploting\n",
    "import numpy as np\n",
    "from numpy import append, array, diagonal, tril, triu\n",
    "from numpy.linalg import inv\n",
    "from scipy.linalg import lu\n",
    "#from scipy.linalg import solve\n",
    "from pprint import pprint\n",
    "from numpy import array, zeros, diag, diagflat, dot\n",
    "from sympy import *\n",
    "import sympy as sym\n",
    "init_printing()"
   ]
  },
  {
   "cell_type": "code",
   "execution_count": null,
   "metadata": {
    "collapsed": true,
    "deletable": true,
    "editable": true
   },
   "outputs": [],
   "source": []
  },
  {
   "cell_type": "markdown",
   "metadata": {
    "collapsed": true,
    "deletable": true,
    "editable": true
   },
   "source": [
    "2.1 Solve Ax =b"
   ]
  },
  {
   "cell_type": "code",
   "execution_count": null,
   "metadata": {
    "collapsed": false
   },
   "outputs": [],
   "source": [
    "A = array([[54, 14, -11, 2],\n",
    "               [14, 50, -4, 29],\n",
    "               [-11, -4, 55, 22],\n",
    "               [2, 29, 22, 95]])\n",
    "b = array([1, 1, 1, 1])\n",
    "x0 = [1, 1, 1,1]\n"
   ]
  },
  {
   "cell_type": "markdown",
   "metadata": {},
   "source": [
    "## (a) L-U decomposition"
   ]
  },
  {
   "cell_type": "code",
   "execution_count": null,
   "metadata": {
    "collapsed": true
   },
   "outputs": [],
   "source": [
    "n = 20\n",
    "\n",
    "p, l, u = lu(A)"
   ]
  },
  {
   "cell_type": "code",
   "execution_count": null,
   "metadata": {
    "collapsed": false
   },
   "outputs": [],
   "source": [
    "p"
   ]
  },
  {
   "cell_type": "code",
   "execution_count": null,
   "metadata": {
    "collapsed": false
   },
   "outputs": [],
   "source": [
    "l"
   ]
  },
  {
   "cell_type": "code",
   "execution_count": null,
   "metadata": {
    "collapsed": false
   },
   "outputs": [],
   "source": [
    "u"
   ]
  },
  {
   "cell_type": "code",
   "execution_count": null,
   "metadata": {
    "collapsed": false
   },
   "outputs": [],
   "source": [
    "b"
   ]
  },
  {
   "cell_type": "code",
   "execution_count": null,
   "metadata": {
    "collapsed": false
   },
   "outputs": [],
   "source": [
    "y = np.linalg.solve(l, b)\n",
    "y    \n"
   ]
  },
  {
   "cell_type": "code",
   "execution_count": null,
   "metadata": {
    "collapsed": false
   },
   "outputs": [],
   "source": [
    "x = np.linalg.solve(u, y)\n",
    "x"
   ]
  },
  {
   "cell_type": "markdown",
   "metadata": {},
   "source": [
    "(b) Gauss-Jacobi iteration"
   ]
  },
  {
   "cell_type": "code",
   "execution_count": null,
   "metadata": {
    "collapsed": false
   },
   "outputs": [],
   "source": [
    "def gjacobi(A, b, maxit=1000,tol = 1/1000, x0=None):\n",
    "    \"\"\"\n",
    "    Solve a linear equation by the gauss jacobi iteration outlined in the book.\n",
    "    Follows the eq:\n",
    "        x = inv(D)(b - Rx)\n",
    "    Where D is the diagonal matrix of A and R is the remainder s.t D + R = A\n",
    "    \"\"\"\n",
    "    # If we have not provided an initial array for x make a new one\n",
    "    if x0==None:\n",
    "        x = array([1 for _ in range(A.shape[1])])\n",
    "    else:\n",
    "        x = x0\n",
    "    d = np.diag(np.diag(A))\n",
    "    \n",
    "    for it in np.arange(maxit):\n",
    "        dx =  inv(d).dot(b - A.dot(x))\n",
    "        x = x + dx\n",
    "        if np.linalg.norm(dx)<tol:\n",
    "            break\n",
    "\n",
    "    print(\"x:\\n\", x)  \n",
    "gjacobi(A,b, maxit = 10000, tol = 1/100000)    "
   ]
  },
  {
   "cell_type": "markdown",
   "metadata": {
    "collapsed": true,
    "deletable": true,
    "editable": true
   },
   "source": [
    "## (c) Gauss-Seidel iteration\n",
    "How many Gauss-Jacobi and Gauss-Seidel iterations are required to get answers\n",
    "that agree with the L-U decomposition solution to four signi\f",
    "cant digits?\n",
    "\n",
    "\n",
    "\n",
    "\n",
    "\n",
    "\n",
    "\n",
    "\n",
    "\n",
    "\n",
    "\n",
    "\n",
    "\n",
    "\n",
    "\n",
    "\n",
    "\n",
    "\n",
    "\n"
   ]
  },
  {
   "cell_type": "code",
   "execution_count": null,
   "metadata": {
    "collapsed": false
   },
   "outputs": [],
   "source": [
    "def gseidel(A, b, maxit=1000, tol=1/1000,lamb =1, x0=None):\n",
    "    \"\"\"\n",
    "    Solve a linear equation by the gauss seidel iteration outlined in the book\n",
    "    Follows the eq:\n",
    "        \n",
    "    \"\"\"\n",
    "    Q = np.tril(A)\n",
    "    # If we have not provided an initial array for x make a new one\n",
    "    if x0 == None:\n",
    "        x = array([1 for _ in range(A.shape[1])])\n",
    "    else:\n",
    "        x = x0\n",
    "    for it in np.arange(maxit):\n",
    "        dx = np.linalg.inv(Q).dot(b -A.dot(x))\n",
    "        x = x + lamb*dx\n",
    "        if np.linalg.norm(dx)<tol:\n",
    "            break\n",
    "    print(\"x:\\n\", x) \n",
    "    return x\n",
    "\n",
    "gseidel(A,b, maxit = 10000, tol = 1/100000)"
   ]
  },
  {
   "cell_type": "markdown",
   "metadata": {},
   "source": [
    "### 2.3. \n",
    "\n",
    "Use the Matlab function randn to generate a random 10 by 10matrix A and a\n",
    "random 10-vector b. Then use the Matlab function flop to count the number\n",
    "of \n",
    "oating point operations needed to solve the linear equation Ax = b 1, 10,\n",
    "and 50 times for each of the following algorithms:\n",
    "\n",
    "\n",
    " - (a) $x = A \\ b$\n",
    " - (b) $x = U\\\\(L\\\\b)$, computing the L-U factors of A only once using the Matlab\n",
    "function lu.\n",
    " - (c) $x = A^{-1}b$, computing $A^{-1}$ only once using the Matlab function $inv$.\n",
    "\n",
    "https://docs.python.org/3/library/timeit.html\n",
    "https://stackoverflow.com/questions/29280470/what-is-timeit-in-python"
   ]
  },
  {
   "cell_type": "markdown",
   "metadata": {},
   "source": [
    "using IPython’s timeit magic,"
   ]
  },
  {
   "cell_type": "code",
   "execution_count": null,
   "metadata": {
    "collapsed": false
   },
   "outputs": [],
   "source": [
    "%lsmagic"
   ]
  },
  {
   "cell_type": "code",
   "execution_count": null,
   "metadata": {
    "collapsed": false
   },
   "outputs": [],
   "source": [
    "%%timeit\n",
    "gjacobi(A,b, maxit = 10000, tol = 1/100000)   \n"
   ]
  },
  {
   "cell_type": "code",
   "execution_count": null,
   "metadata": {
    "collapsed": false
   },
   "outputs": [],
   "source": [
    "%%timeit\n",
    "\n",
    "gseidel(A,b, maxit = 10000, tol = 1/100000)"
   ]
  },
  {
   "cell_type": "code",
   "execution_count": null,
   "metadata": {
    "collapsed": true
   },
   "outputs": [],
   "source": []
  }
 ],
 "metadata": {
  "kernelspec": {
   "display_name": "Python 3",
   "language": "python",
   "name": "python3"
  },
  "language_info": {
   "codemirror_mode": {
    "name": "ipython",
    "version": 3
   },
   "file_extension": ".py",
   "mimetype": "text/x-python",
   "name": "python",
   "nbconvert_exporter": "python",
   "pygments_lexer": "ipython3",
   "version": "3.5.2"
  }
 },
 "nbformat": 4,
 "nbformat_minor": 2
}
