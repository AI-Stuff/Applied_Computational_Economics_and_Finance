{
 "cells": [
  {
   "cell_type": "markdown",
   "metadata": {},
   "source": [
    "# 2 Linear Equations and Computer Basics"
   ]
  },
  {
   "cell_type": "code",
   "execution_count": 2,
   "metadata": {
    "collapsed": false
   },
   "outputs": [
    {
     "name": "stderr",
     "output_type": "stream",
     "text": [
      "/opt/conda/lib/python3.5/site-packages/matplotlib/font_manager.py:273: UserWarning: Matplotlib is building the font cache using fc-list. This may take a moment.\n",
      "  warnings.warn('Matplotlib is building the font cache using fc-list. This may take a moment.')\n",
      "/opt/conda/lib/python3.5/site-packages/matplotlib/font_manager.py:273: UserWarning: Matplotlib is building the font cache using fc-list. This may take a moment.\n",
      "  warnings.warn('Matplotlib is building the font cache using fc-list. This may take a moment.')\n"
     ]
    },
    {
     "name": "stdout",
     "output_type": "stream",
     "text": [
      "Populating the interactive namespace from numpy and matplotlib\n"
     ]
    }
   ],
   "source": [
    "#%pylab inline\n",
    "%pylab notebook\n",
    "# pylab Populating the interactive namespace from numpy and matplotlib\n",
    "# numpy for numerical computation\n",
    "# matplotlib for ploting"
   ]
  },
  {
   "cell_type": "code",
   "execution_count": 17,
   "metadata": {
    "collapsed": false
   },
   "outputs": [],
   "source": [
    "from numpy import append, array, diagonal, tril, triu\n",
    "from numpy.linalg import inv, solve\n",
    "from scipy.linalg import lu\n",
    "from pprint import pprint\n",
    "from numpy import array, zeros, diag, diagflat, dot"
   ]
  },
  {
   "cell_type": "markdown",
   "metadata": {},
   "source": [
    "\n",
    "## 2.1 Computer Arithmetic\n",
    "\n",
    "Some knowledge of how computers perform numerical computations and how programming\n",
    "languages work is useful in applied numerical work, especially if one is to\n",
    "write efficient programs and avoid errors. It often comes as an unpleasant surprise to\n",
    "many people to learn that exact arithmetic and computer arithmetic do not always\n",
    "give the same answers, even in programs without programming errors.\n",
    "\n",
    "Typically, computer languages such as Fortran and C allow several ways of representing\n",
    "a number.\n",
    "\n",
    "The exact details of the representation depends on the hardware but it will\n",
    "suffice for our purposes to suppose that floating point numbers are stored in the form\n",
    "$m2^e$, where m and e are integers with $-2^b <= m <2^b$ and $-2^d <= e < 2^d$.\n",
    "\n",
    "The obvious way of computing this term will result in loss of precision.\n",
    "\n",
    "These arise not only from overflow but from division by 0.\n",
    "\n",
    "In addition,floating point numbers may get set to $NaN$, which stands for not-anumber.\n",
    "\n",
    "Roundoff error is only one of the pitfalls in evaluating mathematical expressions.\n",
    "In numerical computations, error is also introduced by the computer's inherent inability\n",
    "to evaluate certain mathematical expressions exactly. For all its power, a computer\n",
    "can only perform a limited set of operations in evaluating expressions. Essentially this\n",
    "list includes the four arithmetic operations of addition, subtraction, multiplication\n",
    "and division, as well as logical operations of comparison.\n",
    "\n",
    "Other common functions,such as exponential, logarithmic, and trigonometric functions cannot be evaluated directly using computer arithmetic. They can only be evaluated approximately using algorithms based on the four basic arithmetic operations.\n",
    "\n",
    "For the common functions very efficient algorithms typically exist and these are\n",
    "sometimes \"hardwired\" into the computer's processor or coprocessor. An important\n",
    "area of numerical analysis involves determining efficient approximations that can be\n",
    "computed using basic arithmetic operations.\n",
    "\n",
    "\n",
    "\n",
    "$$exp(x) = \\sum^{inf}_{i=0} x^{n}/n!$$\n",
    "\n",
    "Obviously one cannot compute the infinite sum, but one could compute a finite number\n",
    "of these terms, with the hope that one will obtain sufficient accuracy for the\n",
    "purpose at hand. The result, however, will always be inexact."
   ]
  },
  {
   "cell_type": "code",
   "execution_count": 9,
   "metadata": {
    "collapsed": true
   },
   "outputs": [],
   "source": []
  },
  {
   "cell_type": "markdown",
   "metadata": {},
   "source": [
    "## 2.3 Linear Equations and the L-U Factorization\n",
    "\n",
    "The linear equation is the most elementary problem that arises in computational\n",
    "economic analysis. In a linear equation, an $n \\times n$ matrix A and an n-vector b are\n",
    "given, and one must compute the n-vector x that satisfies\n",
    "\n",
    "$$A x = b$$"
   ]
  },
  {
   "cell_type": "code",
   "execution_count": null,
   "metadata": {
    "collapsed": true
   },
   "outputs": [],
   "source": []
  },
  {
   "cell_type": "code",
   "execution_count": 34,
   "metadata": {
    "collapsed": false
   },
   "outputs": [
    {
     "name": "stdout",
     "output_type": "stream",
     "text": [
      "A:\n",
      "array([[ 4., -2.,  1.],\n",
      "       [ 1., -3.,  2.],\n",
      "       [-1.,  2.,  6.]])\n",
      "diag(A):\n",
      "array([[ 4.,  0.,  0.],\n",
      "       [ 0., -3.,  0.],\n",
      "       [ 0.,  0.,  6.]])\n",
      "b:\n",
      "[1.0, 2.0, 3.0]\n",
      "x0:\n",
      "[1.0, 1.0, 1.0]\n",
      "n:\n",
      "25\n"
     ]
    }
   ],
   "source": [
    "# example problem\n",
    "\n",
    "A = np.array([[4.0, -2.0, 1.0], [1.0, -3.0, 2.0], [-1.0, 2.0, 6.0]])\n",
    "\n",
    "b = [1.0, 2.0, 3.0]\n",
    "\n",
    "x0 = [1.0, 1.0, 1.0]\n",
    "\n",
    "n = 25\n",
    "\n",
    "\n",
    "print( \"A:\")\n",
    "pprint(A)\n",
    "\n",
    "\n",
    "print( \"diag(A):\")\n",
    "pprint(diagflat(diag(A)))\n",
    "\n",
    "\n",
    "print( \"b:\")\n",
    "pprint(b)\n",
    "\n",
    "print( \"x0:\")\n",
    "pprint(x0)\n",
    "\n",
    "print( \"n:\")\n",
    "pprint(n)\n"
   ]
  },
  {
   "cell_type": "code",
   "execution_count": 16,
   "metadata": {
    "collapsed": false
   },
   "outputs": [],
   "source": [
    "\"\"\"\n",
    "Solve a linear equation by LU-decomposition\n",
    "Comes from LU decomposition of a matrix A s.t. A = LU\n",
    "Then\n",
    "LUx = b => Ux = y => Ly = b\n",
    "\"\"\"\n",
    "_, l, u = lu(A)"
   ]
  },
  {
   "cell_type": "markdown",
   "metadata": {},
   "source": [
    "Lower triangle matrix"
   ]
  },
  {
   "cell_type": "code",
   "execution_count": 18,
   "metadata": {
    "collapsed": false
   },
   "outputs": [
    {
     "data": {
      "text/plain": [
       "array([[ 1.  ,  0.  ,  0.  ],\n",
       "       [ 0.25,  1.  ,  0.  ],\n",
       "       [-0.25, -0.6 ,  1.  ]])"
      ]
     },
     "execution_count": 18,
     "metadata": {},
     "output_type": "execute_result"
    }
   ],
   "source": [
    "l"
   ]
  },
  {
   "cell_type": "markdown",
   "metadata": {},
   "source": [
    "Upper triangle matrix"
   ]
  },
  {
   "cell_type": "code",
   "execution_count": 21,
   "metadata": {
    "collapsed": false
   },
   "outputs": [
    {
     "data": {
      "text/plain": [
       "array([[ 4.  , -2.  ,  1.  ],\n",
       "       [ 0.  , -2.5 ,  1.75],\n",
       "       [ 0.  ,  0.  ,  7.3 ]])"
      ]
     },
     "execution_count": 21,
     "metadata": {},
     "output_type": "execute_result"
    }
   ],
   "source": [
    "u"
   ]
  },
  {
   "cell_type": "markdown",
   "metadata": {},
   "source": [
    "Forward solving"
   ]
  },
  {
   "cell_type": "code",
   "execution_count": 23,
   "metadata": {
    "collapsed": false
   },
   "outputs": [
    {
     "data": {
      "text/plain": [
       "array([ 1.  ,  1.75,  4.3 ])"
      ]
     },
     "execution_count": 23,
     "metadata": {},
     "output_type": "execute_result"
    }
   ],
   "source": [
    "y = solve(l, b)\n",
    "y    "
   ]
  },
  {
   "cell_type": "markdown",
   "metadata": {},
   "source": [
    "Backward solving"
   ]
  },
  {
   "cell_type": "code",
   "execution_count": 25,
   "metadata": {
    "collapsed": false
   },
   "outputs": [
    {
     "data": {
      "text/plain": [
       "array([-0.04109589, -0.28767123,  0.5890411 ])"
      ]
     },
     "execution_count": 25,
     "metadata": {},
     "output_type": "execute_result"
    }
   ],
   "source": [
    "x=solve(u, y)\n",
    "x"
   ]
  },
  {
   "cell_type": "code",
   "execution_count": null,
   "metadata": {
    "collapsed": true
   },
   "outputs": [],
   "source": []
  },
  {
   "cell_type": "code",
   "execution_count": null,
   "metadata": {
    "collapsed": true
   },
   "outputs": [],
   "source": []
  },
  {
   "cell_type": "markdown",
   "metadata": {},
   "source": [
    "### Jacobi-Method\n",
    "\n",
    "\n",
    "The Jacobi method is a matrix iterative method used to solve the equation Ax=b for a known square matrix A of size n×n and known vector b or length n.\n",
    "\n",
    "$$\\begin{eqnarray*}\n",
    "Ax = b\n",
    "\\end{eqnarray*}$$\n",
    "\n",
    "A is split into the sum of two separate matrices, D and R, such that A=D+R. Dii=Aii, but Dij=0, for i≠j. R is essentially the opposite. Rii=0, but Rij=Aij for i≠j. The solution to the equation, i.e. the value of x\n",
    "\n",
    ", is given by the following iterative equation:\n",
    "\n",
    "$$\\begin{eqnarray*}\n",
    "x^{(k+1)} = D^{-1}(b-Rx^{(k)}).\n",
    "\\end{eqnarray*}$$\n",
    "\n",
    "\n",
    "\n",
    "\n",
    "\n",
    "https://www.quantstart.com/articles/Jacobi-Method-in-Python-and-NumPy\n",
    "\n",
    "\n",
    "\n",
    "\n",
    "\n"
   ]
  },
  {
   "cell_type": "markdown",
   "metadata": {},
   "source": [
    "Check result with direct method"
   ]
  },
  {
   "cell_type": "code",
   "execution_count": 40,
   "metadata": {
    "collapsed": false
   },
   "outputs": [],
   "source": [
    "def gauss_jacobi(A, b, iterations, x0=None):\n",
    "    \"\"\"\n",
    "    Solve a linear equation by the gauss jacobi iteration outlined in the book.\n",
    "    Follows the eq:\n",
    "        x = inv(D)(b - Rx)\n",
    "    Where D is the diagonal matrix of A and R is the remainder s.t D + R = A\n",
    "    \"\"\"\n",
    "    d = diagflat(diag(A))\n",
    "    # Calculate the remainder matrix\n",
    "    r = A - d\n",
    "    # If we have not provided an initial array for x make a new one\n",
    "    if not x0:\n",
    "        x = array([1 for _ in range(a.shape[1])])\n",
    "    else:\n",
    "        x = x0\n",
    "    for _ in range(iterations):\n",
    "        x = inv(d).dot(b - r.dot(x))\n",
    "    return x\n"
   ]
  },
  {
   "cell_type": "code",
   "execution_count": 41,
   "metadata": {
    "collapsed": false
   },
   "outputs": [
    {
     "data": {
      "text/plain": [
       "array([-0.04109589, -0.28767124,  0.5890411 ])"
      ]
     },
     "execution_count": 41,
     "metadata": {},
     "output_type": "execute_result"
    }
   ],
   "source": [
    "gauss_jacobi(A, b, n, x0)"
   ]
  },
  {
   "cell_type": "code",
   "execution_count": null,
   "metadata": {
    "collapsed": true
   },
   "outputs": [],
   "source": []
  },
  {
   "cell_type": "code",
   "execution_count": 35,
   "metadata": {
    "collapsed": false
   },
   "outputs": [
    {
     "data": {
      "text/plain": [
       "array([-0.04109589, -0.28767123,  0.5890411 ])"
      ]
     },
     "execution_count": 35,
     "metadata": {},
     "output_type": "execute_result"
    }
   ],
   "source": [
    "solve(A,b)"
   ]
  },
  {
   "cell_type": "code",
   "execution_count": null,
   "metadata": {
    "collapsed": true
   },
   "outputs": [],
   "source": []
  },
  {
   "cell_type": "code",
   "execution_count": null,
   "metadata": {
    "collapsed": true
   },
   "outputs": [],
   "source": []
  },
  {
   "cell_type": "markdown",
   "metadata": {},
   "source": [
    "### gauss seidel method\n",
    "\n",
    "\n",
    "\n",
    "\n",
    "\n",
    "\n",
    "http://austingwalters.com/gauss-seidel-method/\n",
    "\n",
    "\n",
    "\n",
    "\n",
    "Using the Gauss-Seidel Method\n",
    "\n",
    "The method is fairly straight forward, given a standard system of linear equations, Ax = b. Where, A is a matrix (often representing a series of equations), x is a vector of x variables (Gauss-Seidel method is used to solve this vector) and b is the solution vector. In Gauss-Seidel method, we then split the A matrix into Upper (U) and Lower (L) matrices (the lower matrix in this case also contains the diagonal), then iterate using the following method:\n",
    "\n",
    "\n",
    "\n",
    "![](http://108.61.119.12/wp-content/uploads/2014/05/gauss-equation.png)\n"
   ]
  },
  {
   "cell_type": "code",
   "execution_count": null,
   "metadata": {
    "collapsed": true
   },
   "outputs": [],
   "source": []
  },
  {
   "cell_type": "code",
   "execution_count": null,
   "metadata": {
    "collapsed": true
   },
   "outputs": [],
   "source": []
  },
  {
   "cell_type": "code",
   "execution_count": null,
   "metadata": {
    "collapsed": true
   },
   "outputs": [],
   "source": []
  },
  {
   "cell_type": "code",
   "execution_count": null,
   "metadata": {
    "collapsed": true
   },
   "outputs": [],
   "source": []
  },
  {
   "cell_type": "code",
   "execution_count": null,
   "metadata": {
    "collapsed": true
   },
   "outputs": [],
   "source": []
  },
  {
   "cell_type": "markdown",
   "metadata": {},
   "source": [
    "https://github.com/mmcky/nyu-econ-370/blob/master/notebooks/notes-linear-algebra.ipynb\n",
    "\n"
   ]
  },
  {
   "cell_type": "code",
   "execution_count": 36,
   "metadata": {
    "collapsed": false
   },
   "outputs": [
    {
     "data": {
      "text/plain": [
       "array([[ 4.,  0.,  0.],\n",
       "       [ 1., -3.,  0.],\n",
       "       [-1.,  2.,  6.]])"
      ]
     },
     "execution_count": 36,
     "metadata": {},
     "output_type": "execute_result"
    }
   ],
   "source": [
    "tril(A)"
   ]
  },
  {
   "cell_type": "code",
   "execution_count": 37,
   "metadata": {
    "collapsed": false
   },
   "outputs": [
    {
     "data": {
      "text/plain": [
       "array([[ 4., -2.,  1.],\n",
       "       [ 0., -3.,  2.],\n",
       "       [ 0.,  0.,  6.]])"
      ]
     },
     "execution_count": 37,
     "metadata": {},
     "output_type": "execute_result"
    }
   ],
   "source": [
    "triu(A)"
   ]
  },
  {
   "cell_type": "code",
   "execution_count": null,
   "metadata": {
    "collapsed": true
   },
   "outputs": [],
   "source": []
  },
  {
   "cell_type": "code",
   "execution_count": 45,
   "metadata": {
    "collapsed": false
   },
   "outputs": [
    {
     "data": {
      "text/plain": [
       "array([-0.04109589, -0.28767123,  0.5890411 ])"
      ]
     },
     "execution_count": 45,
     "metadata": {},
     "output_type": "execute_result"
    }
   ],
   "source": [
    "\"\"\"\n",
    "ace.solvers\n",
    "~~~~~~~~~~~\n",
    "author:  hahnicity\n",
    "https://github.com/hahnicity/ace/blob/master/ace/solvers.py\n",
    "Solve a simple linear equation Ax = b in a particular way\n",
    "\"\"\"\n",
    "\n",
    "\n",
    "\n",
    "def gauss_seidel(A, b, iterations, x0=None):\n",
    "    \"\"\"\n",
    "    Solve a linear equation by the gauss seidel iteration outlined in the book\n",
    "    Follows the eq:\n",
    "        x = inv(L)*(b - U*x)\n",
    "    \"\"\"\n",
    "    l = tril(A)\n",
    "    upper_plus_diagonal = triu(A)\n",
    "    u = upper_plus_diagonal - diagflat(diag(A))\n",
    "    # If we have not provided an initial array for x make a new one\n",
    "    if not x0:\n",
    "        x = array([1 for _ in range(a.shape[1])])\n",
    "    else:\n",
    "        x = x0\n",
    "\n",
    "    for _ in range(iterations):\n",
    "        x = inv(l).dot(b - u.dot(x))\n",
    "    return x\n",
    "\n",
    "\n",
    "\n",
    "\n",
    "gauss_seidel(A, b, n, x0)\n",
    "\n",
    "\n"
   ]
  },
  {
   "cell_type": "code",
   "execution_count": null,
   "metadata": {
    "collapsed": true
   },
   "outputs": [],
   "source": []
  },
  {
   "cell_type": "code",
   "execution_count": null,
   "metadata": {
    "collapsed": true
   },
   "outputs": [],
   "source": []
  },
  {
   "cell_type": "code",
   "execution_count": null,
   "metadata": {
    "collapsed": true
   },
   "outputs": [],
   "source": []
  },
  {
   "cell_type": "code",
   "execution_count": null,
   "metadata": {
    "collapsed": true
   },
   "outputs": [],
   "source": []
  },
  {
   "cell_type": "code",
   "execution_count": 31,
   "metadata": {
    "collapsed": false
   },
   "outputs": [
    {
     "name": "stdout",
     "output_type": "stream",
     "text": [
      "x:\n",
      "array([-0.04109589, -0.28767124,  0.5890411 ])\n"
     ]
    }
   ],
   "source": [
    "def jacobi(A,b,N=25,x0=None):\n",
    "    \"\"\"Solves the equation Ax=b via the Jacobi iterative method.\"\"\"\n",
    "    # Create an initial guess if needed                                                                                                                                                            \n",
    "    if x0 is None:\n",
    "        x = zeros(len(A[0]))\n",
    "    else:\n",
    "        x = x0\n",
    "    # Create a vector of the diagonal elements of A                                                                                                                                                \n",
    "    # and subtract them from A                                                                                                                                                                     \n",
    "    D = diag(A)\n",
    "    R = A - diagflat(D)\n",
    "\n",
    "    # Iterate for N times                                                                                                                                                                          \n",
    "    for i in range(N):\n",
    "        x = (b - dot(R,x)) / D\n",
    "    return x\n",
    "\n",
    "sol = jacobi(A,b,N=n,x0=x0)\n",
    "\n",
    "print(\"x:\")\n",
    "pprint(sol)"
   ]
  },
  {
   "cell_type": "code",
   "execution_count": 44,
   "metadata": {
    "collapsed": false
   },
   "outputs": [
    {
     "data": {
      "text/plain": [
       "array([[ 4.,  0.,  0.,  0.,  0.,  0.,  0.,  0.,  0.],\n",
       "       [ 0., -2.,  0.,  0.,  0.,  0.,  0.,  0.,  0.],\n",
       "       [ 0.,  0.,  1.,  0.,  0.,  0.,  0.,  0.,  0.],\n",
       "       [ 0.,  0.,  0.,  1.,  0.,  0.,  0.,  0.,  0.],\n",
       "       [ 0.,  0.,  0.,  0., -3.,  0.,  0.,  0.,  0.],\n",
       "       [ 0.,  0.,  0.,  0.,  0.,  2.,  0.,  0.,  0.],\n",
       "       [ 0.,  0.,  0.,  0.,  0.,  0., -1.,  0.,  0.],\n",
       "       [ 0.,  0.,  0.,  0.,  0.,  0.,  0.,  2.,  0.],\n",
       "       [ 0.,  0.,  0.,  0.,  0.,  0.,  0.,  0.,  6.]])"
      ]
     },
     "execution_count": 44,
     "metadata": {},
     "output_type": "execute_result"
    }
   ],
   "source": [
    "diag(A)"
   ]
  },
  {
   "cell_type": "code",
   "execution_count": null,
   "metadata": {
    "collapsed": true
   },
   "outputs": [],
   "source": []
  },
  {
   "cell_type": "markdown",
   "metadata": {},
   "source": [
    "\n",
    "\n",
    "\n",
    "https://www3.nd.edu/~zxu2/acms40390F12/Lec-7.3.pdf\n",
    "\n",
    "http://austingwalters.com/gauss-seidel-method/\n",
    "\n",
    "\n",
    "https://stackoverflow.com/questions/17580666/improving-numpy-speed-for-gauss-seidel-jacobi-solver"
   ]
  }
 ],
 "metadata": {
  "kernelspec": {
   "display_name": "Python 3",
   "language": "python",
   "name": "python3"
  },
  "language_info": {
   "codemirror_mode": {
    "name": "ipython",
    "version": 3
   },
   "file_extension": ".py",
   "mimetype": "text/x-python",
   "name": "python",
   "nbconvert_exporter": "python",
   "pygments_lexer": "ipython3",
   "version": "3.5.2"
  }
 },
 "nbformat": 4,
 "nbformat_minor": 1
}
